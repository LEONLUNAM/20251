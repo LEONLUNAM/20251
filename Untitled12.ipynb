{
  "nbformat": 4,
  "nbformat_minor": 0,
  "metadata": {
    "colab": {
      "provenance": [],
      "authorship_tag": "ABX9TyME5SV4IeKTU+pNUg6ghbOt",
      "include_colab_link": true
    },
    "kernelspec": {
      "name": "python3",
      "display_name": "Python 3"
    },
    "language_info": {
      "name": "python"
    }
  },
  "cells": [
    {
      "cell_type": "markdown",
      "metadata": {
        "id": "view-in-github",
        "colab_type": "text"
      },
      "source": [
        "<a href=\"https://colab.research.google.com/github/LEONLUNAM/20251/blob/main/Untitled12.ipynb\" target=\"_parent\"><img src=\"https://colab.research.google.com/assets/colab-badge.svg\" alt=\"Open In Colab\"/></a>"
      ]
    },
    {
      "cell_type": "code",
      "execution_count": null,
      "metadata": {
        "id": "Ghk5PYhlLPIO"
      },
      "outputs": [],
      "source": [
        "# programcion w 2\n",
        "\n",
        "\n",
        "\n",
        ""
      ]
    },
    {
      "cell_type": "markdown",
      "source": [
        "#  objetivo generlal\n",
        "\n",
        "\n",
        " programar en javasiroptt ara crear y públicar paghinawebmodernas..\n",
        ""
      ],
      "metadata": {
        "id": "_WQ40H9IMV5t"
      }
    },
    {
      "cell_type": "code",
      "source": [
        "# 1.- Introdcciion a a jacascriptrt\n",
        ".\n",
        "# Objetivo conocer la importancia de javascriopt como lernguuje, paa eextender la funcionalida ede un sitiio web y agregarlem, ldinamismo.\n",
        "\n",
        "\n",
        "\n",
        "\n",
        "\n",
        "\n",
        " #  1.1 ¿' Qué es  y para que suiver havasr it?=¡?\n",
        "\n",
        "# 1.2 Definicion de un scirop ty la etiqueta  s{-scrot y yy sxsfceriot..\n",
        "\n",
        "1.3 Scritpinterno\n",
        "\n",
        "\n",
        "1.4\n",
        "EN la cabecera head y head\n",
        "\n",
        "\n",
        "1.4\n",
        "En el cuerp, bodyy body asimismomo\n",
        "\n",
        "\n",
        "m n1-5\n",
        "ventjas y desavemntajas del wscrit onmterno y del extermnop\n",
        "\n",
        " }\n",
        "\n",
        "1.6 aSa.,ida de iungfrlokmacion\n",
        "\n",
        "\n",
        "1 aw\n",
        "En u\n",
        "1.6 En un leamento dae de daocu\n",
        "\n",
        "1.6.2 En el documento de,m con iinne docuemnatn awiernt a ednnaklñsjkldaflk."
      ],
      "metadata": {
        "colab": {
          "base_uri": "https://localhost:8080/",
          "height": 106
        },
        "id": "0DOW23FzMdbD",
        "outputId": "4287545b-dba7-497d-e6b5-86093510b711"
      },
      "execution_count": 2,
      "outputs": [
        {
          "output_type": "error",
          "ename": "SyntaxError",
          "evalue": "unmatched '}' (<ipython-input-2-b518e44b8e6a>, line 28)",
          "traceback": [
            "\u001b[0;36m  File \u001b[0;32m\"<ipython-input-2-b518e44b8e6a>\"\u001b[0;36m, line \u001b[0;32m28\u001b[0m\n\u001b[0;31m    }\u001b[0m\n\u001b[0m    ^\u001b[0m\n\u001b[0;31mSyntaxError\u001b[0m\u001b[0;31m:\u001b[0m unmatched '}'\n"
          ]
        }
      ]
    },
    {
      "cell_type": "code",
      "source": [
        "\n",
        "\n",
        "\n",
        "\n",
        "162"
      ],
      "metadata": {
        "id": "komZittMMddT"
      },
      "execution_count": null,
      "outputs": []
    },
    {
      "cell_type": "code",
      "source": [
        "1.6.4 aEn la consola log edde l nabvegtadoi ,m con cosel ., lñllog()"
      ],
      "metadata": {
        "id": "jfM5ZXf8NbUo"
      },
      "execution_count": null,
      "outputs": []
    },
    {
      "cell_type": "code",
      "source": [
        "# 2.- VARIABLES FUNCIUONES Y OTROS\n",
        "# obejtivoi: identific ar los didefentres iatpos d edatos daentro de javscraioop y  la manbera dae definerivariables , funciones y 9oihjbejtos. }\n",
        "\n",
        "2.1 Senmteicncias y poinato y punbto y  co,\n",
        "2.2 Coimentaris.l\n",
        "2.3 variables, tipos d daedatos,m voloires yt concversiones.\n",
        "\n",
        "2.3.1 Variables\n",
        "2.3.2 Datos primitivos (string, nuamber, boolean,  array, undefined)\n",
        "2.3.4 Valores undenied, null y vacios\n",
        "2.4 Operadores\n",
        "2.4.1 Aritméticos(+, -, *, /, %, ++, -- yy **).\n",
        "2.4.2 De asignación (=, +=, -=, *=, /=, %=)\n",
        "\n"
      ],
      "metadata": {
        "id": "_ROrJGrXNbRp"
      },
      "execution_count": null,
      "outputs": []
    },
    {
      "cell_type": "code",
      "source": [],
      "metadata": {
        "id": "rWffSYhlNbMw"
      },
      "execution_count": null,
      "outputs": []
    },
    {
      "cell_type": "code",
      "source": [],
      "metadata": {
        "id": "S2gHXufHNbKR"
      },
      "execution_count": null,
      "outputs": []
    }
  ]
}