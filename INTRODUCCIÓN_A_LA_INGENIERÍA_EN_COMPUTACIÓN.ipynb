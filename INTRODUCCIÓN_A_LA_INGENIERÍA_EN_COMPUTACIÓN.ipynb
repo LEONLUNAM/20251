{
  "nbformat": 4,
  "nbformat_minor": 0,
  "metadata": {
    "colab": {
      "provenance": [],
      "authorship_tag": "ABX9TyPa7Kugr7m8ZS1ZtmHZcNBX",
      "include_colab_link": true
    },
    "kernelspec": {
      "name": "python3",
      "display_name": "Python 3"
    },
    "language_info": {
      "name": "python"
    }
  },
  "cells": [
    {
      "cell_type": "markdown",
      "metadata": {
        "id": "view-in-github",
        "colab_type": "text"
      },
      "source": [
        "<a href=\"https://colab.research.google.com/github/LEONLUNAM/20251/blob/main/INTRODUCCI%C3%93N_A_LA_INGENIER%C3%8DA_EN_COMPUTACI%C3%93N.ipynb\" target=\"_parent\"><img src=\"https://colab.research.google.com/assets/colab-badge.svg\" alt=\"Open In Colab\"/></a>"
      ]
    },
    {
      "cell_type": "markdown",
      "source": [
        "# OBJETIVO GENERAL\n",
        "\n",
        "## Definir el plan de vida, conocer el método de la ingeniería para la resolución de praoblemas y comprender el manejo básico del software, para desempeñarse de forma responsable como ingeniero en computación.\n",
        "\n",
        "    1.- Plan de vida.\n",
        "    2.- Manejo básico del software.\n",
        "    3.- Manejo básico de linux.\n",
        "    4.- Método general de la ingeniería.\n",
        "    5.- Los valores del ingeniero en computación."
      ],
      "metadata": {
        "id": "EuzTJmsad4OO"
      }
    },
    {
      "cell_type": "code",
      "execution_count": null,
      "metadata": {
        "id": "RS_xFAxVdtwr"
      },
      "outputs": [],
      "source": [
        "# 1.- Plan de vida\n",
        "\n",
        "# OBJETIVO: Definir el plan de vida y conocer la pirámide oorganizacional y el plan de estudios, para lograruna buena relación entre éstos y así, asegurar una\n",
        "# adecuada formación como ingeniero en computación.\n",
        "\n",
        "# 1.1 Plan de vida.\n",
        "#     1.1.1 Metas y objetivos a cinco años.\n",
        "#     1.1.2 Metas y objetivos a diez años.\n",
        "#     1.1.3 Metas y objetivos a quince años.\n",
        "# 1.2 Priamide organizacional.\n",
        "#     1.2.1 Nivel inferior u operativo (perfiles, puestos, salarios y responsabilidades).\n",
        "#     1.2.2 Nivel medio o táctico (perfiles, puestos, salarios y responsabilidades).\n",
        "#     1.3.3 Nivel superior o estratégico (perfiles, puestos, salarios y responsabilidades).\n",
        "#     2.4.4 Nivel empresarial.\n",
        "# 1.3 Plan de estudios de ingeniería en computación.\n",
        "# 1.4 Relación entre el plan de vida, la pirámide organizacional y el plan de estuidios."
      ]
    },
    {
      "cell_type": "code",
      "source": [
        "# 2.- Manejo básico del software.\n",
        "\n",
        "# OBJETIVO: Manejar las aplicaciones básicas e indispensables para desarrollarse como ingeniero en computación.\n",
        "\n",
        "# 2.1 Sistemas operativos.\n",
        "# 2.2 Navegadores de internet.\n",
        "# 2.3 Correos electrónicos.\n",
        "# 2.4 Redes sociales.\n",
        "# 2.5 Procesadores de texto.\n",
        "# 2.6 Hojas de cálculo.\n",
        "# 2.7 Presentadores.\n",
        "# 2.8 Editores de imágenes.\n",
        "# 2.9 Editores de audio.\n",
        "# 2.10 Editores de video.\n",
        "# 2.11 Editores de programación.\n",
        "# 2.12 Almacenamiento en la nube.\n",
        "# 2.13 Sistemas de control.\n",
        "# 2.14 Sistemas para la gestión de proyectos.\n",
        "# 2.15 Plataformas de aprendizaje en línea."
      ],
      "metadata": {
        "id": "MEGWtjcohXi5"
      },
      "execution_count": 1,
      "outputs": []
    },
    {
      "cell_type": "code",
      "source": [
        "# 3.- Manejo básico de linux.\n",
        "\n",
        "# OBJETIVO: Manejar los elementos básicos del sistema operativo Linux.\n",
        "\n",
        "# 3.1 ¿Qué es Linux?\n",
        "# 3.2 Instalación del sistema operativo.\n",
        "# 3.3 Comandos básicos.\n",
        "# 3.4 Permisos\n",
        "# 3.5 Editores.\n",
        "# 3.6 Comandos de control.\n",
        "# 3.7 Instalación de paquetes."
      ],
      "metadata": {
        "id": "rE4lLRI7hXes"
      },
      "execution_count": null,
      "outputs": []
    },
    {
      "cell_type": "code",
      "source": [
        "# 4.- Método general de la ingeniería\n",
        "\n",
        "# OBJETIVO: Conocer el método general de la ingeniería para resolver problemas.\n",
        "\n",
        "# 4.1 Concepto de problema en ingeniería.\n",
        "# 4.2 Elementos que definen un problema.\n",
        "# 4.3 Método general para solución de problemas en ingeniería.\n",
        "#     4.3.1 Análisis y formulación del problema.\n",
        "#     4.3.2 Síntesis.\n",
        "#     4.3.3 Generación de soluciones alternativas.\n",
        "#     4.3.4 Satisfacción y optimización."
      ],
      "metadata": {
        "id": "a3Ll3nP8hXZR"
      },
      "execution_count": null,
      "outputs": []
    },
    {
      "cell_type": "code",
      "source": [],
      "metadata": {
        "id": "gfz_lRUQhXS0"
      },
      "execution_count": null,
      "outputs": []
    },
    {
      "cell_type": "code",
      "source": [],
      "metadata": {
        "id": "rUPWanODhXJd"
      },
      "execution_count": null,
      "outputs": []
    }
  ]
}