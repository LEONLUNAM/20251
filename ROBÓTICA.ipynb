{
  "nbformat": 4,
  "nbformat_minor": 0,
  "metadata": {
    "colab": {
      "provenance": [],
      "authorship_tag": "ABX9TyOhkoRIiCwOvJpvH0Q5Ci4T",
      "include_colab_link": true
    },
    "kernelspec": {
      "name": "python3",
      "display_name": "Python 3"
    },
    "language_info": {
      "name": "python"
    }
  },
  "cells": [
    {
      "cell_type": "markdown",
      "metadata": {
        "id": "view-in-github",
        "colab_type": "text"
      },
      "source": [
        "<a href=\"https://colab.research.google.com/github/LEONLUNAM/20251/blob/main/ROB%C3%93TICA.ipynb\" target=\"_parent\"><img src=\"https://colab.research.google.com/assets/colab-badge.svg\" alt=\"Open In Colab\"/></a>"
      ]
    },
    {
      "cell_type": "code",
      "execution_count": null,
      "metadata": {
        "id": "TS08ZdUpo-FU"
      },
      "outputs": [],
      "source": []
    },
    {
      "cell_type": "markdown",
      "source": [
        "# OBJETIVO GENERAL: Conocer las bases y fundamentos de la robótica, los distaintos tipos de robots, así como sus clasificaciones para el diseño y construcción de aplicaciones robóticas.\n",
        "\n",
        "\n",
        "\n",
        "    1.- Introducción\n",
        "     \n",
        "\n",
        "    2.- Sistemas de ocntarol y sensores  \n",
        "\n",
        "\n",
        "    3.- Componentes mecánicos de un robot\n",
        "\n",
        "\n",
        "    4.- Cinemática\n",
        "\n",
        "\n",
        "    5.- Dinámica\n",
        "\n",
        "\n",
        "    6.- Lenguajes de programación\n",
        "\n",
        "\n",
        "    7.- Selección de un sistema robótico"
      ],
      "metadata": {
        "id": "okajSouOsOVC"
      }
    },
    {
      "cell_type": "code",
      "source": [
        "# 1.- INTRODUCCIÓN\n",
        "\n",
        "# OBJETIVO: Comprender los conceptos básicos de la robótica, para identificar los diferentes tipos de robots\n",
        "# que hay en la actualidad, así como sus principales aplicaciones.\n",
        "\n",
        "# 1.1 Antecedentes de la robótica.\n",
        "# 1.2 Tipos de robots y sus componentes.\n",
        "#     1.2.1 Robots estacionarios.\n",
        "#     1.2.2 Robots móviles.\n",
        "#     1.2.3 Otras clasificaciones.\n",
        "# 1.3 Ejemplos comerciales.\n",
        "#     1.3.1 Aplicaciones.\n",
        "#     1.3.2 Tipos de órganos terminales para realizar distintos tipos de trabajos.\n",
        "#     1.3.3 Ejemplos de uso."
      ],
      "metadata": {
        "id": "AJM7nwbEtSNM"
      },
      "execution_count": null,
      "outputs": []
    },
    {
      "cell_type": "code",
      "source": [
        "# 2.- SISTEMAS DE CONTROL Y SENSORES\n",
        "# OBJETIVO: Conocer las diferentes técnicas para el control de sistemas robóticos y los tipos de sensores\n",
        "# necesarios para su interacción con el entorno.\n",
        "\n",
        "#"
      ],
      "metadata": {
        "id": "sAJJmYr-u3g5"
      },
      "execution_count": null,
      "outputs": []
    }
  ]
}