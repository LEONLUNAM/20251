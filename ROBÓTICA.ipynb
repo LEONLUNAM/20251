{
  "nbformat": 4,
  "nbformat_minor": 0,
  "metadata": {
    "colab": {
      "provenance": [],
      "authorship_tag": "ABX9TyMdMfQiDqeKkKtuhPek1mYZ",
      "include_colab_link": true
    },
    "kernelspec": {
      "name": "python3",
      "display_name": "Python 3"
    },
    "language_info": {
      "name": "python"
    }
  },
  "cells": [
    {
      "cell_type": "markdown",
      "metadata": {
        "id": "view-in-github",
        "colab_type": "text"
      },
      "source": [
        "<a href=\"https://colab.research.google.com/github/LEONLUNAM/20251/blob/main/ROB%C3%93TICA.ipynb\" target=\"_parent\"><img src=\"https://colab.research.google.com/assets/colab-badge.svg\" alt=\"Open In Colab\"/></a>"
      ]
    },
    {
      "cell_type": "markdown",
      "source": [
        "# OBJETIVO GENERAL: Conocer las bases y fundamentos de la robótica, los distintos tipos de robots, así como sus clasificaciones para el diseño y construcción de aplicaciones robóticas.\n",
        "\n",
        "\n",
        "\n",
        "    1.- Introducción\n",
        "     \n",
        "\n",
        "    2.- Sistemas de control y sensores  \n",
        "\n",
        "\n",
        "    3.- Componentes mecánicos de un robot\n",
        "\n",
        "\n",
        "    4.- Cinemática\n",
        "\n",
        "\n",
        "    5.- Dinámica\n",
        "\n",
        "\n",
        "    6.- Lenguajes de programación\n",
        "\n",
        "\n",
        "    7.- Selección de un sistema robótico"
      ],
      "metadata": {
        "id": "okajSouOsOVC"
      }
    },
    {
      "cell_type": "code",
      "source": [
        "# 1.- INTRODUCCIÓN\n",
        "\n",
        "# OBJETIVO: Comprender los conceptos básicos de la robótica, para identificar los diferentes tipos de robots\n",
        "# que hay en la actualidad, así como sus principales aplicaciones.\n",
        "\n",
        "# 1.1 Antecedentes de la robótica.\n",
        "# 1.2 Tipos de robots y sus componentes.\n",
        "#     1.2.1 Robots estacionarios.\n",
        "#     1.2.2 Robots móviles.\n",
        "#     1.2.3 Otras clasificaciones.\n",
        "# 1.3 Ejemplos comerciales.\n",
        "#     1.3.1 Aplicaciones.\n",
        "#     1.3.2 Tipos de órganos terminales para realizar distintos tipos de trabajos.\n",
        "#     1.3.3 Ejemplos de uso."
      ],
      "metadata": {
        "id": "AJM7nwbEtSNM"
      },
      "execution_count": null,
      "outputs": []
    },
    {
      "cell_type": "code",
      "source": [
        "# 2.- SISTEMAS DE CONTROL Y SENSORES\n",
        "\n",
        "# OBJETIVO: Conocer las diferentes técnicas para el control de sistemas robóticos y los tipos de sensores\n",
        "# necesarios para su interacción con el entorno.\n",
        "\n",
        "# 2.1 Sistemas de control en la robótica.\n",
        "#     2.1.2 Sistamas de control MIMO\n",
        "#     2.1.3 Sistemas de control adaptativos.\n",
        "# 2.2 Sensores aplicados a los robots.\n",
        "#     2.2.1 Sensores de posición de velocidad.\n",
        "#     2.2.2 Sensores de fuerza.\n",
        "#     2.2.3 Sensores de presencia.\n",
        "#     2.2.4 Sistemas de visión."
      ],
      "metadata": {
        "id": "sAJJmYr-u3g5"
      },
      "execution_count": null,
      "outputs": []
    },
    {
      "cell_type": "code",
      "execution_count": null,
      "metadata": {
        "id": "TS08ZdUpo-FU"
      },
      "outputs": [],
      "source": [
        "# 3.- Componentes mecánicos de un robot.\n",
        "\n",
        "# OBJETIVO: Identificar los elementos mecánicos básicos que componen un robot.\n",
        "\n",
        "# 3.1 Actuadores.\n",
        "#     3.1.1 Tipos.\n",
        "#     3.1.2 Clasificación.\n",
        "#     3.1.3 Selección.\n",
        "# 3.2 Transmisiones y reductores.\n",
        "# 3.3 Frenos.\n",
        "# 3.4 Órganos terminales.\n",
        "#     3.4.1 Garras.\n",
        "#     3.4.2 Herramientas.\n",
        "#     3.4.3 Otros dispositivos.\n",
        "# 3.5 Mecanismos por eslabones."
      ]
    },
    {
      "cell_type": "code",
      "source": [
        "# 4.- Cinemática\n",
        "\n",
        "# OBJETIVO: Conocer las diferentes formas de análisis del espacio en el que se mueve un sistema róbotico.\n",
        "\n",
        "# 4.1 Descripción de las articulaciones.\n",
        "# 4.2 El espacio cartesiano.\n",
        "# 4.3 Cinemática directa.\n",
        "#     4.3.1 Tipos de estructura y notación de D y H.\n",
        "#     4.3.2 Sistemas de referencia.\n",
        "# 4.4 Cinemática inversa.\n",
        "#     4.4.1 Métodos de solución.\n",
        "# 4.5 Cinemática de movimiento.\n",
        "#     4.5.1 Matriz jacobiana.\n",
        "#     4.5.2 Matriz jacobiana inversa."
      ],
      "metadata": {
        "id": "Oy64NgXHe1y5"
      },
      "execution_count": null,
      "outputs": []
    },
    {
      "cell_type": "code",
      "source": [
        "# 5.- Dinámica\n",
        "\n",
        "# OBJETIVO: Analizar los aspectos físicos que se presentan en un sistema robótico en movimiento.\n",
        "\n",
        "# 5.1 Distribución de masa en los eslabones.\n",
        "# 5.2 Sistemas de accionamiento.\n",
        "# 5.3 Aplicación de Newton y Euler y Euler Lagrange.\n",
        "# 5.4 Simulación dinámica."
      ],
      "metadata": {
        "id": "GbCVnuHggSK0"
      },
      "execution_count": null,
      "outputs": []
    },
    {
      "cell_type": "code",
      "source": [
        "# 6.- Lenguajes de programación.\n",
        "\n",
        "# OBJETIVO: Comprender el uso e importancia de los lenguajes de programación en la robótica.\n",
        "\n",
        "#"
      ],
      "metadata": {
        "id": "AuPGxWJsgyIE"
      },
      "execution_count": null,
      "outputs": []
    },
    {
      "cell_type": "code",
      "source": [],
      "metadata": {
        "id": "KOa99wzPgyCI"
      },
      "execution_count": null,
      "outputs": []
    },
    {
      "cell_type": "code",
      "source": [],
      "metadata": {
        "id": "GhcgOWhegx9I"
      },
      "execution_count": null,
      "outputs": []
    },
    {
      "cell_type": "code",
      "source": [],
      "metadata": {
        "id": "qzdBzOhOgxva"
      },
      "execution_count": null,
      "outputs": []
    }
  ]
}