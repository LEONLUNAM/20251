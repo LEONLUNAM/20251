{
  "nbformat": 4,
  "nbformat_minor": 0,
  "metadata": {
    "colab": {
      "provenance": [],
      "authorship_tag": "ABX9TyOeEI5e5ox2litCLtInOTUP",
      "include_colab_link": true
    },
    "kernelspec": {
      "name": "python3",
      "display_name": "Python 3"
    },
    "language_info": {
      "name": "python"
    }
  },
  "cells": [
    {
      "cell_type": "markdown",
      "metadata": {
        "id": "view-in-github",
        "colab_type": "text"
      },
      "source": [
        "<a href=\"https://colab.research.google.com/github/LEONLUNAM/20251/blob/main/GEOMETR%C3%8DA_ANAL%C3%8DTICA.ipynb\" target=\"_parent\"><img src=\"https://colab.research.google.com/assets/colab-badge.svg\" alt=\"Open In Colab\"/></a>"
      ]
    },
    {
      "cell_type": "markdown",
      "source": [
        "# OBJETIVO GENERAL\n",
        "## Reafirmar los conocimientos de la trigonometría básica y de la geometría analítica plana con el fin de adquirir los conceptos fundamentales del álgebra vectorial y aplicarlos al estudio de la geometría analítica del espacio tridimesional.\n",
        "\n",
        "\n",
        "    1.- Elementos de trigonometría y\n",
        "    geometría analítica en el espacio de dos dimensiones.\n",
        "    2.- Algebra vectorial.\n",
        "    3.- La recta y el plano en el espacio de 3 dimensiones.\n",
        "    4.- Ecuaciones paramétricas y en coordenadas polares.\n",
        "    5.- Curvas y superficies en tres dimensiones."
      ],
      "metadata": {
        "id": "I7tfE3wd5HK4"
      }
    },
    {
      "cell_type": "code",
      "execution_count": null,
      "metadata": {
        "id": "MRG16hJU4-8g"
      },
      "outputs": [],
      "source": [
        "# 1.- Elementos de trigonometría y geometría analítica en el espacio de dos dimensiones\n",
        "# OBJETIVO\n",
        "# Reafirmar los conceptos y conocimientos básicos relacionados con la trigonometría y la geometría analítica bidimensional.\n",
        "\n",
        "# 1.1 Funciones trigonométricas: definiciones y signos de los cuatro cuadrantes.\n",
        "# 1.2 Establecimiento de identidades trigonométricas fundamentales: pitagóricas, inversas y por cociente.\n",
        "# 1.3 Fórmulas para las identidades trigonométricas de la suma y de la diferencia de dos ángulos. Fórmulas para las }\n",
        "#     identidades trigonométricas del ángulo doble y del ángulo mitad. Formulación de la ley de los senos y de la ley de los cosenos.\n",
        "# 1.4 Sistemas de referencia: establecimiento del sistema cartesiano rectangular. Establecimiento del sistema polar.\n",
        "#     Determinación de las ecuaciones de transformación de cartesiano a polar y viceversa.\n",
        "# 1.5 La recta: definición de pendiente y de ángulo de inclinación. Ecuaciones de la recta en las formas punto pendiente,\n",
        "#     dos puntos y pendiente-ordenada al origen. Ecuación general de la recta. Cálculo del ángulo entre dos rectas.\n",
        "# 1.6 Las cónicas: ecuación general de segundo grado con ausencia del término XY; Identificación del tipo de ecuación y obtención de los elementos de las cónicas. +\n",
        "#     Transformación de la ecuación general a la ordinaria y viceversa. Representación gráfica de las cónicas.\n",
        "# 1.7 La ecuación general de segundo grado. Identificación del tipo de ecuación. Rotación y traslación de los ejes."
      ]
    },
    {
      "cell_type": "code",
      "source": [],
      "metadata": {
        "id": "6PO176YE6NrK"
      },
      "execution_count": null,
      "outputs": []
    },
    {
      "cell_type": "code",
      "source": [],
      "metadata": {
        "id": "DkbyMO256P-Q"
      },
      "execution_count": null,
      "outputs": []
    },
    {
      "cell_type": "code",
      "source": [],
      "metadata": {
        "id": "AgZ-lTC56P29"
      },
      "execution_count": null,
      "outputs": []
    },
    {
      "cell_type": "code",
      "source": [],
      "metadata": {
        "id": "QYMJhckC6Pvp"
      },
      "execution_count": null,
      "outputs": []
    },
    {
      "cell_type": "code",
      "source": [],
      "metadata": {
        "id": "Y0eGWcaU6PrR"
      },
      "execution_count": null,
      "outputs": []
    },
    {
      "cell_type": "code",
      "source": [],
      "metadata": {
        "id": "Wi3v-fIQ6PkW"
      },
      "execution_count": null,
      "outputs": []
    },
    {
      "cell_type": "code",
      "source": [],
      "metadata": {
        "id": "dn-EXNDJ6Pfh"
      },
      "execution_count": null,
      "outputs": []
    },
    {
      "cell_type": "code",
      "source": [],
      "metadata": {
        "id": "uaP6ba-56Pbg"
      },
      "execution_count": null,
      "outputs": []
    },
    {
      "cell_type": "code",
      "source": [],
      "metadata": {
        "id": "GZbZTlFE6PXV"
      },
      "execution_count": null,
      "outputs": []
    },
    {
      "cell_type": "code",
      "source": [],
      "metadata": {
        "id": "1AjPmaxp6PPb"
      },
      "execution_count": null,
      "outputs": []
    },
    {
      "cell_type": "code",
      "source": [],
      "metadata": {
        "id": "LaqFqEIL6PKJ"
      },
      "execution_count": null,
      "outputs": []
    },
    {
      "cell_type": "code",
      "source": [],
      "metadata": {
        "id": "rVRmkCHJ6PD3"
      },
      "execution_count": null,
      "outputs": []
    },
    {
      "cell_type": "code",
      "source": [],
      "metadata": {
        "id": "3krxbURh6O-h"
      },
      "execution_count": null,
      "outputs": []
    },
    {
      "cell_type": "code",
      "source": [],
      "metadata": {
        "id": "Uq0BncGc6O2C"
      },
      "execution_count": null,
      "outputs": []
    },
    {
      "cell_type": "code",
      "source": [],
      "metadata": {
        "id": "pNNP8VtZ6OvD"
      },
      "execution_count": null,
      "outputs": []
    }
  ]
}