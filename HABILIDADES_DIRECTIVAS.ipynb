{
  "nbformat": 4,
  "nbformat_minor": 0,
  "metadata": {
    "colab": {
      "provenance": [],
      "authorship_tag": "ABX9TyMXKsIk7b5C8nqBWoU68Vjr",
      "include_colab_link": true
    },
    "kernelspec": {
      "name": "python3",
      "display_name": "Python 3"
    },
    "language_info": {
      "name": "python"
    }
  },
  "cells": [
    {
      "cell_type": "markdown",
      "metadata": {
        "id": "view-in-github",
        "colab_type": "text"
      },
      "source": [
        "<a href=\"https://colab.research.google.com/github/LEONLUNAM/20251/blob/main/HABILIDADES_DIRECTIVAS.ipynb\" target=\"_parent\"><img src=\"https://colab.research.google.com/assets/colab-badge.svg\" alt=\"Open In Colab\"/></a>"
      ]
    },
    {
      "cell_type": "markdown",
      "source": [
        "# OBJETIVO GENERAL\n",
        "\n",
        "## Desarrollar actitudes, valores y habilidades para desempeñarse de manera correcta en cualquier entorno que involucre toma de decisiones organizacionales.\n",
        "\n",
        "    1.- Habilidades personales.\n",
        "    2.- Habilidades interpersonales.\n",
        "    3.- Habilidades de grupo.\n",
        "    4.- Liderazgo.\n",
        "    5.- Gestión de tecnología."
      ],
      "metadata": {
        "id": "T_bqwoxmjip4"
      }
    },
    {
      "cell_type": "code",
      "execution_count": null,
      "metadata": {
        "id": "1MgWYb3ciuzA"
      },
      "outputs": [],
      "source": [
        "# 1.- Habilidades personales.\n",
        "\n",
        "# OBJETIVO: Identificar los comportamientos gerenciales que determinan las competencias directivas.\n",
        "\n",
        "# 1.1 Autoestima y asertividad.\n",
        "# 1.2 Inteligencia emocional y las competencias emocionales.\n",
        "# 1.3 Manejo del estrés y calidad de vida.\n",
        "# 1.4 Administración del tiempo.\n",
        "# 1.5 Solución analítica y creativa de problemas."
      ]
    },
    {
      "cell_type": "code",
      "source": [
        "# 2.- Habilidades interpersonales.\n",
        "\n",
        "# OBJETIVO: Desarrollar la habilidad para coordinar y controlar un grupo, mediante la utilización de técnicas y recursos (conocimientos, habilidades y actitudes)\n",
        "# que promuevan la resolución de conflictos y la negociación en diversos ámbitos de trabajo.\n",
        "\n",
        "# 2.1 Dirección y toma de decisiones.\n",
        "# 2.2 Factores humanos y motivación.\n",
        "# 2.3 Negociación y comunicación.\n",
        "# 2.4 Manejo de conflictos."
      ],
      "metadata": {
        "id": "wtG2UBfmjlwL"
      },
      "execution_count": null,
      "outputs": []
    },
    {
      "cell_type": "code",
      "source": [
        "# 3.- Habilidades de grupo.\n",
        "\n",
        "# OBJETIVO: Aplicar estrategias para resolver los problemas cotidianos que se viven en el ámbito gerencial, tanto en la dirección de personal como en el manejo\n",
        "# de los recursos en un ambiente de constantes cambios.\n",
        "\n",
        "# 3.1 El grupo y el equipo. Definición y diferencias.\n",
        "# 3.2 Formación e integración de equipos de trabajo.\n",
        "# 3.3 Técnicas de trabajo en equipo.\n",
        "# 3.4 Desarrollo de una actitud creativa dentro de los equipos de trabajo."
      ],
      "metadata": {
        "id": "OnJEQk2vjlnJ"
      },
      "execution_count": null,
      "outputs": []
    },
    {
      "cell_type": "code",
      "source": [
        "# 4.- Liderazgo.\n",
        "\n",
        "# OBJETIVO: Conocer la importancia del liderazgo y reconocer las características de un líder efectivo y ético, así como las distintas fases que conforman.\n",
        "# el poroceso de toma de decisiones.\n",
        "\n",
        "# 4.1 Componentes del liderazgo.\n",
        "# 4.2 Enfoques teóricos del liderazgo.\n",
        "# 4.3 Desarrollo de competencias de un líder.\n",
        "# 4.4 Facultamiento y delegación.\n",
        "# 4.5 Coaching.\n",
        "# 4.6 Los líderes del siglo XXI."
      ],
      "metadata": {
        "id": "zy2XmRnGjlgd"
      },
      "execution_count": null,
      "outputs": []
    },
    {
      "cell_type": "code",
      "source": [
        "# 5.- Gestión de la tecnología.\n",
        "\n",
        "# OBJETIVO: Aplicar estrategías, técnicas y recursos enfocados a la innovación para facilitar los procesos directivos y empresariales.\n",
        "\n",
        "# 5.1 Creatividad, innovación y tecnología.\n",
        "# 5.2 Estrategia tecnológica.\n",
        "# 5.3 Optimización de los recursos tecnológicos.\n",
        "# 5.4 Reingeniería y tecnología."
      ],
      "metadata": {
        "id": "Ucd2d7Bgjlc0"
      },
      "execution_count": null,
      "outputs": []
    },
    {
      "cell_type": "markdown",
      "source": [
        "Madrigal, T. B. (2009).\n",
        "Habilidades directivas.\n",
        "México: McGraw-Hill.\n",
        "\n",
        "Puchol, L. (2010).\n",
        "El libro de las habilidades directivas.\n",
        "España: Díaz de Santos.\n",
        "\n",
        "Díaz, C. R. (2014).\n",
        "Jefe por primera vez: formación del liderazgo empresarial.\n",
        "Perú: Macro EIRL.\n",
        "\n"
      ],
      "metadata": {
        "id": "6puJ-vrqWLVG"
      }
    },
    {
      "cell_type": "code",
      "source": [],
      "metadata": {
        "id": "Q7a_i5AyjlZZ"
      },
      "execution_count": null,
      "outputs": []
    },
    {
      "cell_type": "code",
      "source": [],
      "metadata": {
        "id": "Hx6ZrvHejlOz"
      },
      "execution_count": null,
      "outputs": []
    },
    {
      "cell_type": "code",
      "source": [],
      "metadata": {
        "id": "lHFB5_AQjlKG"
      },
      "execution_count": null,
      "outputs": []
    },
    {
      "cell_type": "code",
      "source": [],
      "metadata": {
        "id": "jmukkNWPjlD5"
      },
      "execution_count": null,
      "outputs": []
    }
  ]
}