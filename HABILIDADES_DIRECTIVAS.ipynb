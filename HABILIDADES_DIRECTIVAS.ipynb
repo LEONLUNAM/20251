{
  "nbformat": 4,
  "nbformat_minor": 0,
  "metadata": {
    "colab": {
      "provenance": [],
      "authorship_tag": "ABX9TyMeBjtExl4gCTrjbkroxXpb",
      "include_colab_link": true
    },
    "kernelspec": {
      "name": "python3",
      "display_name": "Python 3"
    },
    "language_info": {
      "name": "python"
    }
  },
  "cells": [
    {
      "cell_type": "markdown",
      "metadata": {
        "id": "view-in-github",
        "colab_type": "text"
      },
      "source": [
        "<a href=\"https://colab.research.google.com/github/LEONLUNAM/20251/blob/main/HABILIDADES_DIRECTIVAS.ipynb\" target=\"_parent\"><img src=\"https://colab.research.google.com/assets/colab-badge.svg\" alt=\"Open In Colab\"/></a>"
      ]
    },
    {
      "cell_type": "markdown",
      "source": [
        "# OBJETIVO GENERAL\n",
        "\n",
        "## Desarrollar actitudes, valores y habilidades para desempeñarse de manera correcta en cualquier entorno que involucre toma de decisiones organizacionales.\n",
        "\n",
        "    1.- Habilidades personales.\n",
        "    2.- Habilidades interpersonales.\n",
        "    3.- Habilidades de grupo.\n",
        "    4.- Liderazgo.\n",
        "    5.- Gestión de tecnología."
      ],
      "metadata": {
        "id": "T_bqwoxmjip4"
      }
    },
    {
      "cell_type": "code",
      "execution_count": null,
      "metadata": {
        "id": "1MgWYb3ciuzA"
      },
      "outputs": [],
      "source": [
        "# 1.- Habilidades personales\n",
        "\n",
        "# OBJETIVO: Identificar los comportamientos gerenciales que determinan las competencias directivas.\n",
        "\n",
        "# 1.1 Autoestima y asertividad.\n",
        "# 1.2 Inteligencia emocional y las competencias emocionales.\n",
        "# 1.3 Manejo del estrés y calidad de vida.\n",
        "# 1.4 Administración del tiempo.\n",
        "# 1.5 Solución analítica y creativa de problemas."
      ]
    },
    {
      "cell_type": "code",
      "source": [],
      "metadata": {
        "id": "wtG2UBfmjlwL"
      },
      "execution_count": null,
      "outputs": []
    },
    {
      "cell_type": "code",
      "source": [],
      "metadata": {
        "id": "OnJEQk2vjlnJ"
      },
      "execution_count": null,
      "outputs": []
    },
    {
      "cell_type": "code",
      "source": [],
      "metadata": {
        "id": "zy2XmRnGjlgd"
      },
      "execution_count": null,
      "outputs": []
    },
    {
      "cell_type": "code",
      "source": [],
      "metadata": {
        "id": "Ucd2d7Bgjlc0"
      },
      "execution_count": null,
      "outputs": []
    },
    {
      "cell_type": "code",
      "source": [],
      "metadata": {
        "id": "Q7a_i5AyjlZZ"
      },
      "execution_count": null,
      "outputs": []
    },
    {
      "cell_type": "code",
      "source": [],
      "metadata": {
        "id": "Hx6ZrvHejlOz"
      },
      "execution_count": null,
      "outputs": []
    },
    {
      "cell_type": "code",
      "source": [],
      "metadata": {
        "id": "lHFB5_AQjlKG"
      },
      "execution_count": null,
      "outputs": []
    },
    {
      "cell_type": "code",
      "source": [],
      "metadata": {
        "id": "jmukkNWPjlD5"
      },
      "execution_count": null,
      "outputs": []
    }
  ]
}