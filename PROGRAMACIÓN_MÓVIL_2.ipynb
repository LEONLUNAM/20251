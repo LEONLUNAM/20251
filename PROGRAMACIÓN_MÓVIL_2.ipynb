{
  "nbformat": 4,
  "nbformat_minor": 0,
  "metadata": {
    "colab": {
      "provenance": [],
      "authorship_tag": "ABX9TyO0JKiooBVPfK7+U7swFCng",
      "include_colab_link": true
    },
    "kernelspec": {
      "name": "python3",
      "display_name": "Python 3"
    },
    "language_info": {
      "name": "python"
    }
  },
  "cells": [
    {
      "cell_type": "markdown",
      "metadata": {
        "id": "view-in-github",
        "colab_type": "text"
      },
      "source": [
        "<a href=\"https://colab.research.google.com/github/LEONLUNAM/20251/blob/main/PROGRAMACI%C3%93N_M%C3%93VIL_2.ipynb\" target=\"_parent\"><img src=\"https://colab.research.google.com/assets/colab-badge.svg\" alt=\"Open In Colab\"/></a>"
      ]
    },
    {
      "cell_type": "markdown",
      "source": [
        "# OBJETIVO GENERAL.\n",
        "## Programar aplicaciones para dispositivos móviles tales como: tabletas, teléfonos, relojes inteligentes u otros.\n",
        "\n",
        "    1.- Introducción a la programación móvil.\n",
        "    2.- Mensajes.\n",
        "    3.- Tipos de datos.\n",
        "    4.- Depuración y manejo de errores.\n",
        "    5.- Seguridad.\n",
        "    6.- Controles.\n",
        "    7.- Eventos.\n",
        "    8.- Sensores.\n",
        "    9.- Pantallas o vistas.\n",
        "    10.- Menús.\n",
        "    11.- Actividades en segundo plano.\n",
        "    12.- Multimedia y gráficos.\n",
        "    13.- Datos.\n",
        "    14.- Publicación de la aplicación.\n",
        "    "
      ],
      "metadata": {
        "id": "vQN8KmbHK9qo"
      }
    },
    {
      "cell_type": "code",
      "execution_count": null,
      "metadata": {
        "id": "sY7_4nhOrl-D"
      },
      "outputs": [],
      "source": [
        "# 1.- Introducción a la programación móvil\n",
        "# OBJETIVO.\n",
        "# Revisar el paranorama introductorio a la programación móvil.\n",
        "\n",
        "# 1.1 Antecedentes.\n",
        "# 1.2 Dispositivos móviles actuales.\n",
        "#     1.2.1 Tipos de dispositivos móviles.\n",
        "#     1.2.2 Tipos de sistemas operativos.\n",
        "# 1.3 Ambientes de desarrollo (IDE's).\n",
        "# 1.4 Instalación del ambiente de desarrollo.\n",
        "# 1.5 Interfaz del ambiente de desarrollo.\n",
        "# 1.6 Estructura de un proyecto.\n",
        "# 1.7 Estructura de la aplicación.\n",
        "# 1.8 Patrones de diseño para programación móvil."
      ]
    },
    {
      "cell_type": "code",
      "source": [
        "# 2.- Mensajes\n",
        "# OBJETIVO\n",
        "# Generar diferentes tipos de mensajes en el dispositivo móvil.\n",
        "\n",
        "# 2.1 Mensajes en etiquetas.\n",
        "# 2.2 Mensajes en alertas.\n",
        "# 2.3 Mensajes en barra superior.\n",
        "# 2.4 Mensajes en registrao Log.\n",
        "# 2.5 Mensajes en mensajes de SMS.\n",
        "# 2.6 Manejo de idiomas."
      ],
      "metadata": {
        "id": "OeXlP3KOPxD_"
      },
      "execution_count": null,
      "outputs": []
    },
    {
      "cell_type": "code",
      "source": [
        "# 3.- Tipos de datos.\n",
        "# OBJETIVO\n",
        "# Identificar los diferentes tipos de datos.\n",
        "\n",
        "# 3.1 Booleanos.\n",
        "# 3.2 Númericos.\n",
        "#     3.2.1 Enteros.\n",
        "#     3.2.2 Flotantes.\n",
        "# 3.3 Caracteres.\n",
        "# 3.4 Cadenas de texto.\n",
        "# 3.5 Arreglos.\n",
        "# 3.6 Listas.\n",
        "# 3.7 Otros.\n",
        "# 3.8 Conversiones de tipos."
      ],
      "metadata": {
        "id": "hvLXDvnhPw-0"
      },
      "execution_count": null,
      "outputs": []
    },
    {
      "cell_type": "code",
      "source": [
        "# 4.- Depuración y manejo de errores.\n",
        "# OBJETIVO\n",
        "# Conocer la manera de depurar aplicaciones y controlar errores.\n",
        "\n",
        "# 4.1 Errores en tiempo de codificación.\n",
        "# 4.2 Errores en tiempo de ejecución.\n",
        "# 4.3 Depuración paso a paso."
      ],
      "metadata": {
        "id": "b8kEZHvNPw3Q"
      },
      "execution_count": null,
      "outputs": []
    },
    {
      "cell_type": "code",
      "source": [
        "# 5.- Seguridad\n",
        "# OBJETIVO\n",
        "# Identificar los mecanismos necesarios para acceder y proteger los datos del usuario.\n",
        "\n",
        "# 5.1 Acceso a los contactos.\n",
        "# 5.2 Mensajes de texto.\n",
        "# 5.3 Acceso al almacenamiento.\n",
        "# 5.4 Ubicación geográfica.\n",
        "# 5.5 Calendario.\n",
        "# 5.6 Cámara.\n",
        "# 5.7 Micrófono.\n",
        "# 5.8 Sensores.\n",
        "# 5.9 Comunicaciones.\n",
        "#     5.9.1 Telefonía.\n",
        "#     5.9.2 WiFi.\n",
        "#     5.9.3 Internet.\n",
        "#     5.9.4 Bluetooth.\n",
        "#     5.9.5 NFC.\n",
        "# 5.10 Otros."
      ],
      "metadata": {
        "id": "wbDMNGgnPww6"
      },
      "execution_count": null,
      "outputs": []
    },
    {
      "cell_type": "code",
      "source": [
        "#"
      ],
      "metadata": {
        "id": "LojYTb-MPwqS"
      },
      "execution_count": null,
      "outputs": []
    }
  ]
}