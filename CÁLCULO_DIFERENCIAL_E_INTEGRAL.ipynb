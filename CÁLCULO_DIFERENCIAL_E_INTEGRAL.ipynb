{
  "nbformat": 4,
  "nbformat_minor": 0,
  "metadata": {
    "colab": {
      "provenance": [],
      "authorship_tag": "ABX9TyP/SHrYhI0o9aSVG8xwafsF",
      "include_colab_link": true
    },
    "kernelspec": {
      "name": "python3",
      "display_name": "Python 3"
    },
    "language_info": {
      "name": "python"
    }
  },
  "cells": [
    {
      "cell_type": "markdown",
      "metadata": {
        "id": "view-in-github",
        "colab_type": "text"
      },
      "source": [
        "<a href=\"https://colab.research.google.com/github/LEONLUNAM/20251/blob/main/C%C3%81LCULO_DIFERENCIAL_E_INTEGRAL.ipynb\" target=\"_parent\"><img src=\"https://colab.research.google.com/assets/colab-badge.svg\" alt=\"Open In Colab\"/></a>"
      ]
    },
    {
      "cell_type": "markdown",
      "source": [
        "# OBJETIVO GENERAL\n",
        "\n",
        "## Analizar los conceptos fundamentales del cálculo diferencial e integral de funciones reales de variable, real, a fin de aplicarlos a la formulación y manejo de modelos matemáticos de problemas físicos y geométricos.\n",
        "\n",
        "    1.- Funciones, límites y continuidad.\n",
        "    2.- Aplicaciones inmediatas de la derivada.\n",
        "    3.- Derivada y diferencial de una función.\n",
        "    4.- Aplicaciones inmediatas de la integral.\n",
        "    5.- Integral indefinida. Fórmulas de reducción.\n",
        "    6.- Integral definida. Aplicaciones.\n",
        "    7.- Sucesiones y series."
      ],
      "metadata": {
        "id": "hpCHa1QdA7lF"
      }
    },
    {
      "cell_type": "code",
      "execution_count": null,
      "metadata": {
        "id": "9EWQmsBkAq3k"
      },
      "outputs": [],
      "source": [
        "# 1.- Funciones, límites y continuidad.\n",
        "# OBJETIVO\n",
        "# Analizar la naturaleza y las propiedades de las funciones, así como las operaciones que se pueden definir entre éstas, con el\n",
        "# fin de comprender los conceptos de límite y continuidad de una función.\n",
        "\n",
        "# 1.1 Definición de función real de variables real y su representación gráfica. Definición de dominio, codominio y recorrido.\n",
        "#     Notación funcional.\n",
        "# 1.2 Clasificación de funciones según su forma de expresión: implícita, explícita y paramétrica. Funciones definidas por\n",
        "#     más de una regla de correspondencia.\n",
        "# 1.3 Definición de operaciones con funciones: igualdad, adición, multiplicación y composición. Concepto de función inversa.\n",
        "# 1.4 Definición de algunos tipos de funciones: funciones polinomiales, racionales, irracionales, algebraicas y trascendentes.\n",
        "#     Definición de funciones circulares, logarítmicas y exponenciales. Representación gráfica.\n",
        "# 1.5 Definición de vecindades, límite de una función en un punto. Interpretación geométrica del concepto de límite.\n",
        "# 1.6 Límite de la función constante y de la función identidad. Enunciados de teoremas sobre límites y sobre operaciones con\n",
        "#     límites. Cálculo de límites.\n",
        "# 1.7 Definición de límite de una función cuando la variable tiende al infinito.\n",
        "# 1.8 Concepto de continuidad: definición de límites laterales, definición y determinación de la continuidad de una función en\n",
        "#     un punto y en un intervalo. Enunciado de teoremas sobre funciones continuas."
      ]
    },
    {
      "cell_type": "code",
      "source": [
        "# 2.- Aplicaciones inmediatas de la derivada\n",
        "# OBJETIVO\n",
        "# Comprender los conceptos de derivada de una función, sus interpretaciones físicas y geométricas, así como sus aplicaciones\n",
        "# inmediatas.\n",
        "\n",
        "# 2.1 Velocidad y aceleración de una partícula.\n",
        "# 2.2 Tasas instantáneas de cambio.\n",
        "# 2.3 Definiciones de función diferenciable y de diferencial de una función. Interpretación geométrica de la diferencial. Concepto de la derivada como cociente de\n",
        "#     diferenciales. Permanencia de la forma de la diferencial para una función de función.\n",
        "# 2.4 Relación entre la diferencial y el incremento. Aplicaciones de la diferencial: valores aproximados y errores.\n",
        "# 2.5 Enunciados e interpretaciones geométricas de los teoremas de Weiertrass y de Bolzano. Enunciado, demostración e interpretación geométrica del teorema de\n",
        "#     Rolle. Enunciado, demostración, interpretación geométrica y apliaciones del teorema del valor medio del cálculo diferencial.\n",
        "# 2.6 Análisis de funciones crecientes y decrecientes y su relación con el signo de derivada.\n",
        "# 2.7 Definición de máximos y mínimos relativos. Análisis con el criterio de la primera derivada. Definiciones de concavidad y de puntos de inflexión de una curva.\n",
        "#     Análisis de la concavidad de una curva y de puntos de inflexión. Análisis con el criterio de la segunda derivada, de máximos y mínimos."
      ],
      "metadata": {
        "id": "yLQqJr5TB8Cj"
      },
      "execution_count": null,
      "outputs": []
    },
    {
      "cell_type": "code",
      "source": [
        "# 3.- Derivada y diferencial de una función\n",
        "# OBJETIVO\n",
        "# Adquirir las habilidades y herramientas necesarias par realizar el cálculo de la derivada de cualquier función.\n",
        "\n",
        "# 3.1 Definición de la derivada de una función en un punto. Interpretaciones física y geométrica de la derivada; notaciones de la derivada y cálculo a partir de la\n",
        "#     definición.\n",
        "# 3.2 Derivación de la suma, el producto, y el cociente de funciones. Derivación de una función elevada a un exponente racional.\n",
        "# 3.3 Derivación de la función compuesta, regla de la cadena. Derivación de la función inversa.\n",
        "# 3.4 Derivación de funciones circulares, logarítmicas y exponenciales.\n",
        "# 3.5 Derivación de las funciones en forma paramétrica. Definición y cálculo de derivadas de orden superior.\n",
        "# 3.6 Apliaciones físicas y geométricas de la derivada como razón de variación de una variable respecto a otra."
      ],
      "metadata": {
        "id": "L54JbjvMB75f"
      },
      "execution_count": null,
      "outputs": []
    },
    {
      "cell_type": "code",
      "source": [
        "# 4.- Aplicaciones inmediatas de la integral\n",
        "# OBJETIVO\n",
        "# Aplicar 3el concepto de integral para calcular áreas bajo la curva y trabajo de una fuerza variable.\n",
        "\n",
        "# 4.1 Área bajo una curva y entre curvas.\n",
        "# 4.2 Trabajo."
      ],
      "metadata": {
        "id": "NlJ9lJWJB71U"
      },
      "execution_count": null,
      "outputs": []
    },
    {
      "cell_type": "code",
      "source": [
        "# 5.- Integral indefinida. Fórmulas de reducción.\n",
        "# OBJETIVO\n",
        "# Adquirir la habilidad y las herramientas para calcular la integral de algunas funciones.\n",
        "\n",
        "# 5.1 Integral inmediata, por cambio de varible, sustituciones algebraicas y trigonométricas.\n",
        "# 5.2 Métodos de integración, por partes, y por descomposición en fracciones racionales.\n",
        "# 5.3 Aplicaciones de la integral definida al cálculo de áreas, longitudes de arco, áreas y volúmenes de sólidos de revolución.\n",
        "# 5.4 Aplicaciones de la integral indefinida a la solución de ecuaciones diferenciales lineales de variables separables."
      ],
      "metadata": {
        "id": "8vaR2bOnB7xS"
      },
      "execution_count": null,
      "outputs": []
    },
    {
      "cell_type": "code",
      "source": [
        "# 6.- Integral definida. Aplicaciones\n",
        "# OBJETIVO\n",
        "# Aplicar los conocimientos adquiridos para resolver algunos praoblemas que involucran la integral definida.\n",
        "\n",
        "# 6.1 Área en coordenadas polares.\n",
        "# 6.2 Áreas y volúmenes de sólidos de revolución.\n",
        "# 6.3 Longitud de arco.\n",
        "# 6.4 Trabajo."
      ],
      "metadata": {
        "id": "9hYuD4cyB7pV"
      },
      "execution_count": null,
      "outputs": []
    },
    {
      "cell_type": "code",
      "source": [
        "# 7.- Sucesiones y series\n",
        "# OBJETIVO\n",
        "# Analizar los conceptos relacionados con una sucesión y serie, y desarrollar una función en términos de una serie de potencias, así como los criterios de\n",
        "# convergencia.\n",
        "\n",
        "# 7.1 Sucesiones: definición de sucesión, concepto de límite y convergencia de una sucesión, sucesiones monótonas y acotadas.\n",
        "# 7.2 Series: Definición de serie y convergencia, condición para la convergencia y propiedades de las series. Definición y propiedades de las operaciones con las\n",
        "#     series: adición y multiplicación por un escalar.\n",
        "# 7.3 Definición de serie geométrico y de serie \"p\". Series de términos positivos: criterio de comparación y criterio del cociente.\n",
        "# 7.4 Series de signos alternados: definición, criterio de Leibniz, concepto de convergencia absoluta y condicional.\n",
        "# 7.5 Series de potencias: definición de series de potencias: de x-a, conceptos de radio e intervalo de convergencia.\n",
        "# 7.6 Desarrollo de funciones en series de potencia: definición de la serie de Taylor; desarrollo de funciones trigonométricas, logarítmicas y exponenciales."
      ],
      "metadata": {
        "id": "oLD7AbpEB7jD"
      },
      "execution_count": null,
      "outputs": []
    },
    {
      "cell_type": "code",
      "source": [],
      "metadata": {
        "id": "HR0iaASGB7el"
      },
      "execution_count": null,
      "outputs": []
    },
    {
      "cell_type": "code",
      "source": [],
      "metadata": {
        "id": "yhgw0HU8B7Y4"
      },
      "execution_count": null,
      "outputs": []
    },
    {
      "cell_type": "code",
      "source": [],
      "metadata": {
        "id": "-c_FrookB6HL"
      },
      "execution_count": null,
      "outputs": []
    }
  ]
}