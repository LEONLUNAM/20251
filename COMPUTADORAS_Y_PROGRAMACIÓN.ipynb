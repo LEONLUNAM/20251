{
  "nbformat": 4,
  "nbformat_minor": 0,
  "metadata": {
    "colab": {
      "provenance": [],
      "authorship_tag": "ABX9TyMXsuM7DM42XR0RbYmlu8Dh",
      "include_colab_link": true
    },
    "kernelspec": {
      "name": "python3",
      "display_name": "Python 3"
    },
    "language_info": {
      "name": "python"
    }
  },
  "cells": [
    {
      "cell_type": "markdown",
      "metadata": {
        "id": "view-in-github",
        "colab_type": "text"
      },
      "source": [
        "<a href=\"https://colab.research.google.com/github/LEONLUNAM/20251/blob/main/COMPUTADORAS_Y_PROGRAMACI%C3%93N.ipynb\" target=\"_parent\"><img src=\"https://colab.research.google.com/assets/colab-badge.svg\" alt=\"Open In Colab\"/></a>"
      ]
    },
    {
      "cell_type": "markdown",
      "source": [
        "# OBJETIVO GENERAL\n",
        "\n",
        "## Conocer los conceptos básicos sobre la computadora y su funcionamiento, así como aprener a programar de manera estructurada sobre el lenguaje C para resolver problemas reales.\n",
        "\n",
        "    1.- Conceptos básicos de computación.\n",
        "    2.- Metodología de la programación estructurada.\n",
        "    3.- Lenguaje C"
      ],
      "metadata": {
        "id": "oTvfAbzJFQAS"
      }
    },
    {
      "cell_type": "code",
      "execution_count": null,
      "metadata": {
        "id": "FJ2xcLH9FKYR"
      },
      "outputs": [],
      "source": [
        "# 1.- Conceptos básicos de computación\n",
        "# OBJETIVO\n",
        "# Conocer los conceptos básicos de las computadoras y su funcionamiento.\n",
        "\n",
        "# 1.1 Concepto de computación y computadora.\n",
        "# 1.2 Componentes de una computadora, tableta y smartphone.\n",
        "#     1.2.1 Hardware o componentes físicos: tarjeta madre, unidad central de proceso, memorias, sensores y periféricos.\n",
        "#     1.2.2 Software o componentes lógicos: sistemas operativos y aplicaciones.\n",
        "# 1.3 Computadoras analógicas y digitales.\n",
        "# 1.4 Generaciones de computadoras digitales.\n",
        "# 1.5 Lenguajes de programación.\n",
        "#     1.5.1 ¿Qué son y para qué sirven?\n",
        "#     1.5.2 Evolución.\n",
        "#     1.5.3 Lenguaes declarativos.\n",
        "#     1.5.4 Lenguajes funcionales.\n",
        "# 1.6 Transformación de números entre sistemas decimal, binario, octal y hexadecimal.\n",
        "# 1.7 Tipos de procesamiento.\n",
        "#     1.7.1 Lotes.\n",
        "#     1.7.2 Tiempo real.\n",
        "#     1.7.3 Tiempo compartido.\n",
        "#     1.7.4 Paralelo."
      ]
    },
    {
      "cell_type": "code",
      "source": [
        "# 2.- Metodología de la programación estructurada.\n",
        "# OBJETIVO\n",
        "# Resolver problemas reales con la programación estructurada\n",
        "\n",
        "# 2.1 El para"
      ],
      "metadata": {
        "id": "vwPXixdQH4as"
      },
      "execution_count": null,
      "outputs": []
    },
    {
      "cell_type": "code",
      "source": [],
      "metadata": {
        "id": "m-LPOOr1H4VF"
      },
      "execution_count": null,
      "outputs": []
    },
    {
      "cell_type": "code",
      "source": [],
      "metadata": {
        "id": "-USKv22pH4Pb"
      },
      "execution_count": null,
      "outputs": []
    },
    {
      "cell_type": "code",
      "source": [],
      "metadata": {
        "id": "mr9VUap-H4HU"
      },
      "execution_count": null,
      "outputs": []
    },
    {
      "cell_type": "code",
      "source": [],
      "metadata": {
        "id": "N9qTPfwVH3_J"
      },
      "execution_count": null,
      "outputs": []
    },
    {
      "cell_type": "code",
      "source": [],
      "metadata": {
        "id": "haFlb77LH33X"
      },
      "execution_count": null,
      "outputs": []
    }
  ]
}