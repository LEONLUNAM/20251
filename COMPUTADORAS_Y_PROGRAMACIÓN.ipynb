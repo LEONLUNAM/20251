{
  "nbformat": 4,
  "nbformat_minor": 0,
  "metadata": {
    "colab": {
      "provenance": [],
      "authorship_tag": "ABX9TyMqTr2A3FfLKlglBOgZubDi",
      "include_colab_link": true
    },
    "kernelspec": {
      "name": "python3",
      "display_name": "Python 3"
    },
    "language_info": {
      "name": "python"
    }
  },
  "cells": [
    {
      "cell_type": "markdown",
      "metadata": {
        "id": "view-in-github",
        "colab_type": "text"
      },
      "source": [
        "<a href=\"https://colab.research.google.com/github/LEONLUNAM/20251/blob/main/COMPUTADORAS_Y_PROGRAMACI%C3%93N.ipynb\" target=\"_parent\"><img src=\"https://colab.research.google.com/assets/colab-badge.svg\" alt=\"Open In Colab\"/></a>"
      ]
    },
    {
      "cell_type": "markdown",
      "source": [
        "# OBJETIVO GENERAL\n",
        "\n",
        "## Conocer los conceptos básicos sobre la computadora y su funcionamiento, así como aprener a programar de manera estructurada sobre el lenguaje C para resolver problemas reales.\n",
        "\n",
        "    1.- Conceptos básicos de computación.\n",
        "    2.- Metodología de la programación estructurada.\n",
        "    3.- Lenguaje C"
      ],
      "metadata": {
        "id": "oTvfAbzJFQAS"
      }
    },
    {
      "cell_type": "code",
      "execution_count": null,
      "metadata": {
        "id": "FJ2xcLH9FKYR"
      },
      "outputs": [],
      "source": [
        "# 1.- Conceptos básicos de computación\n",
        "# OBJETIVO\n",
        "# Conocer los conceptos básicos de las computadoras y su funcionamiento.\n",
        "\n",
        "# 1.1 Concepto de computación y computadora.\n",
        "# 1.2 Componentes de una computadora, tableta y smartphone.\n",
        "#     1.2.1 Hardware o componentes físicos: tarjeta madre, unidad central de proceso, memorias, sensores y periféricos.\n",
        "#     1.2.2 Software o componentes lógicos: sistemas operativos y aplicaciones.\n",
        "# 1.3 Computadoras analógicas y digitales.\n",
        "# 1.4 Generaciones de computadoras digitales.\n",
        "# 1.5 Lenguajes de programación.\n",
        "#     1.5.1 ¿Qué son y para qué sirven?\n",
        "#     1.5.2 Evolución.\n",
        "#     1.5.3 Lenguaes declarativos.\n",
        "#     1.5.4 Lenguajes funcionales.\n",
        "# 1.6 Transformación de números entre sistemas decimal, binario, octal y hexadecimal.\n",
        "# 1.7 Tipos de procesamiento.\n",
        "#     1.7.1 Lotes.\n",
        "#     1.7.2 Tiempo real.\n",
        "#     1.7.3 Tiempo compartido.\n",
        "#     1.7.4 Paralelo."
      ]
    },
    {
      "cell_type": "code",
      "source": [
        "# 2.- Metodología de la programación estructurada.\n",
        "# OBJETIVO\n",
        "# Resolver problemas reales con la programación estructurada\n",
        "\n",
        "# 2.1 El paradigma de la programación estructurada.\n",
        "# 2.2 Definición del programa: modelado de la realidad.\n",
        "#     2.2.1 Algoritmos.\n",
        "#     2.2.2 Abstracción.\n",
        "#     2.2.3 Identificación de la realidad.\n",
        "#     2.2.4 Identificación de los módulos.\n",
        "#     2.2.5 Pseudo-código.\n",
        "#     2.2.6 Diagrama de flujo.\n",
        "#     2.2.7 Modularidad.\n",
        "#     2.2.8 Concepto de caja negra.\n",
        "# 2.3 Refinamiento sucesivo de los módulos: acoplamiento y cohesión.\n",
        "#     2.3.1 Subcódigo y diagramas estructuradas.\n",
        "#     2.3.2 El árbol y la tabla de decisión. Instrumentación de los módulos."
      ],
      "metadata": {
        "id": "vwPXixdQH4as"
      },
      "execution_count": null,
      "outputs": []
    },
    {
      "cell_type": "code",
      "source": [
        "# 3.- Lenguaje C\n",
        "# OBJETIVO\n",
        "# Programar de forma estructurada con el lenguaje C.\n",
        "\n",
        "# 3.1 Elementos básicos de C.\n",
        "#     3.1.1 Función principal(main).\n",
        "#     3.1.2 Identificadores enteros y reales.\n",
        "#     3.1.3 Variables, constantes y arreglos.\n",
        "#     3.1.4 Precedencia de los operadores.\n",
        "#     3.1.5 Entrada y salida de datos.\n",
        "#     3.1.6 Entrada y salida con formato.\n",
        "#     3.1.7 Caracteres y cadenas.\n",
        "#     3.1.8 Comentarios.\n",
        "#     3.1.9 Depuración.\n",
        "# 3.2 Estructura de control de programa.\n",
        "#     3.2.1 Expresiones de relación y lógicas.\n",
        "#     3.2.2 IF y ELSE.\n",
        "#     3.2.3 SWITCH.\n",
        "#     3.2.4 FOR.\n",
        "#     3.2.5 WHILE.\n",
        "#     3.2.6 DO WHILE.\n",
        "# 3.3 Funciones\n",
        "#     3.3.1 Estructura de una función.\n",
        "#     3.3.2 Funciones de prototipo.\n",
        "#     3.3.3 Otros tipos de variables.\n",
        "#     3.3.4 Clases de almacenamiento.\n",
        "#     3.3.5 Estrucutra de una función.\n",
        "#     3.3.6 Macros.\n",
        "#     3.3.7 El preprocesador de C.\n",
        "#     3.3.8 Programas multiarchivo.\n",
        "# 3.4 Elementos, uniones y apuntadores.\n",
        "#     3.4.1 Uniones y estructuras.\n",
        "#     3.4.2 Apuntadores a datos simples y compuestos.\n",
        "#     3.4.3 Asignación dinámica de memoria.\n",
        "#     3.4.4 Estructuras ligadas.\n",
        "#     3.4.5 Apuntadores como argumentos en funciones.\n",
        "#     3.4.6 Visbilidad.\n",
        "#     3.4.7 Operaciones sobre apuntadores.\n",
        "# 3.5 Archivos.\n",
        "#     3.5.1 Apertura y cierre de un archivo de datos.\n",
        "#     3.5.2 Creación de un archivo de detos.\n",
        "#     3.5.3 Praocesamiento de un archivo de datos.\n",
        "#     3.5.4 Archivos de datos formateados.\n",
        "# 3.6 Programación de bajo nivel.\n",
        "#      3.6.1 Operadores de bits.\n",
        "#      3.6.2 Campos de bits."
      ],
      "metadata": {
        "id": "m-LPOOr1H4VF"
      },
      "execution_count": null,
      "outputs": []
    },
    {
      "cell_type": "code",
      "source": [],
      "metadata": {
        "id": "-USKv22pH4Pb"
      },
      "execution_count": null,
      "outputs": []
    },
    {
      "cell_type": "code",
      "source": [],
      "metadata": {
        "id": "mr9VUap-H4HU"
      },
      "execution_count": null,
      "outputs": []
    },
    {
      "cell_type": "code",
      "source": [],
      "metadata": {
        "id": "N9qTPfwVH3_J"
      },
      "execution_count": null,
      "outputs": []
    },
    {
      "cell_type": "code",
      "source": [],
      "metadata": {
        "id": "haFlb77LH33X"
      },
      "execution_count": null,
      "outputs": []
    }
  ]
}