{
  "nbformat": 4,
  "nbformat_minor": 0,
  "metadata": {
    "colab": {
      "provenance": [],
      "authorship_tag": "ABX9TyOT/L2w6F1jWbJxAiLM4YKu",
      "include_colab_link": true
    },
    "kernelspec": {
      "name": "python3",
      "display_name": "Python 3"
    },
    "language_info": {
      "name": "python"
    }
  },
  "cells": [
    {
      "cell_type": "markdown",
      "metadata": {
        "id": "view-in-github",
        "colab_type": "text"
      },
      "source": [
        "<a href=\"https://colab.research.google.com/github/LEONLUNAM/20251/blob/main/METODOLOG%C3%8DA_DE_LA_PROGRAMACI%C3%93N.ipynb\" target=\"_parent\"><img src=\"https://colab.research.google.com/assets/colab-badge.svg\" alt=\"Open In Colab\"/></a>"
      ]
    },
    {
      "cell_type": "markdown",
      "source": [
        "# 1 Algoritmos, diagramas de flujo y programas."
      ],
      "metadata": {
        "id": "M1NF8n27FM4K"
      }
    },
    {
      "cell_type": "markdown",
      "source": [
        "1.1 Problemas y algoritmos\n",
        "\n",
        "1.2 Diagramas de flujo\n",
        "\n",
        "    1.2.1 Reglas de la construcción de diagramas de flujo\n",
        "\n",
        "1.3 Conceptos fundamentales\n",
        "\n",
        "    1.3.1 Tipos de datos\n",
        "    1.3.2 Identificadores, constantes y variables\n",
        "    1.3.3 Operaciones aritméticas\n",
        "    1.3.4 Expresiones lógicas\n",
        "    1.3.5 Bloque de asignación\n",
        "\n",
        "1.4 Construcción de diagramas de flujo\n",
        "\n",
        "1.5 Problemas\n",
        "\n",
        "    1.5.1 Problemas resueltos"
      ],
      "metadata": {
        "id": "ADnAyVHrFXo4"
      }
    },
    {
      "cell_type": "markdown",
      "source": [
        "Las características que los algoritmos deben reunir son los siguientes\n",
        "\n",
        "Presición: Los pasos a seguir en el algoritmo deben ser precisados claramente\n",
        "\n",
        "Determinismo: El algortimo, dado un conjunto de datos idénticos de entrada, siempre debe arrojar los mismos resultados.\n",
        "\n",
        "Finitud: El algoritmo, independientemente de la complejidad del mismo, siempre debe ser de longitud finita."
      ],
      "metadata": {
        "id": "UrUegd2lHHoZ"
      }
    },
    {
      "cell_type": "markdown",
      "source": [
        "# 1.2 Diagramas de flujo"
      ],
      "metadata": {
        "id": "tbDR2tifICv4"
      }
    },
    {
      "cell_type": "markdown",
      "source": [],
      "metadata": {
        "id": "WajXWOfZHHgg"
      }
    },
    {
      "cell_type": "markdown",
      "source": [
        "Un diagrama de flujo respresenta la esquematización gráfica de un algoritmo. En realidad muestra gráficamente los pasos o procesos a seguir para alcanzar la solución de un problema. Su correcta construcción es sumamente importante porque a partir del mismo se escribe un programa en algún lenguaje de programación. Si el diagrama de flujo está completo y correcto, el paso del mismo a un lenguaje de programación es relativamente simple y directo."
      ],
      "metadata": {
        "id": "mggxKL5TINlI"
      }
    },
    {
      "cell_type": "code",
      "execution_count": null,
      "metadata": {
        "id": "BpVuMKeU_gbF"
      },
      "outputs": [],
      "source": []
    },
    {
      "cell_type": "markdown",
      "source": [
        "# 1.3.2 Identificadores, constantes y variables"
      ],
      "metadata": {
        "id": "KNmhFTX2cxX5"
      }
    },
    {
      "cell_type": "code",
      "source": [],
      "metadata": {
        "id": "A1kVTJGOcxKJ"
      },
      "execution_count": null,
      "outputs": []
    },
    {
      "cell_type": "markdown",
      "source": [
        "# 1.3 Conceptos fundamentales"
      ],
      "metadata": {
        "id": "5ZXLr2lEb6sy"
      }
    },
    {
      "cell_type": "markdown",
      "source": [
        "# 1.3.1 Tipos de datos"
      ],
      "metadata": {
        "id": "TIskSLHsb6Qm"
      }
    },
    {
      "cell_type": "markdown",
      "source": [
        "# 1.3.2 Identificadores, constantes y variables"
      ],
      "metadata": {
        "id": "-oen6etBde3L"
      }
    },
    {
      "cell_type": "markdown",
      "source": [
        "# 1.3.3 Operaciones aritméticas"
      ],
      "metadata": {
        "id": "AA6L_PZh_mhR"
      }
    },
    {
      "cell_type": "code",
      "source": [
        "# Jerarquía de los operadores aritméticos\n",
        "# 1.- ()\n",
        "# 2.-  **  Potencia\n",
        "# 3.-  *  ,  /  ,  %  ,  //  , Multiplicación, División, Módulo, División entera\n",
        "# 4.-  +  ,  -  , Suma, resta"
      ],
      "metadata": {
        "id": "4r6qtQVkactj"
      },
      "execution_count": null,
      "outputs": []
    },
    {
      "cell_type": "markdown",
      "source": [],
      "metadata": {
        "id": "gQ9rZQSJa65h"
      }
    },
    {
      "cell_type": "code",
      "source": [
        "# Potencia **\n",
        "4**3"
      ],
      "metadata": {
        "colab": {
          "base_uri": "https://localhost:8080/"
        },
        "id": "hYiVxLTVacqa",
        "outputId": "e6195fbc-d39a-415d-8681-ae69ad5aac4f"
      },
      "execution_count": 1,
      "outputs": [
        {
          "output_type": "execute_result",
          "data": {
            "text/plain": [
              "64"
            ]
          },
          "metadata": {},
          "execution_count": 1
        }
      ]
    },
    {
      "cell_type": "code",
      "source": [
        "# Multiplicación *\n",
        "8.25*7"
      ],
      "metadata": {
        "colab": {
          "base_uri": "https://localhost:8080/"
        },
        "id": "pQ9-UeX3acnB",
        "outputId": "766092e3-9af5-48cd-9243-26d930c09c4b"
      },
      "execution_count": 2,
      "outputs": [
        {
          "output_type": "execute_result",
          "data": {
            "text/plain": [
              "57.75"
            ]
          },
          "metadata": {},
          "execution_count": 2
        }
      ]
    },
    {
      "cell_type": "code",
      "source": [
        "# División /\n",
        "15/4"
      ],
      "metadata": {
        "colab": {
          "base_uri": "https://localhost:8080/"
        },
        "id": "54LLzETGaccE",
        "outputId": "5c3a21a8-911c-4862-a707-4c7106502743"
      },
      "execution_count": 3,
      "outputs": [
        {
          "output_type": "execute_result",
          "data": {
            "text/plain": [
              "3.75"
            ]
          },
          "metadata": {},
          "execution_count": 3
        }
      ]
    },
    {
      "cell_type": "code",
      "source": [
        "# Módulo %\n",
        "15 % 2"
      ],
      "metadata": {
        "id": "7kdR20hUd_1N",
        "outputId": "e3ccbe52-1f0f-4915-ccda-0f067d07a168",
        "colab": {
          "base_uri": "https://localhost:8080/"
        }
      },
      "execution_count": 4,
      "outputs": [
        {
          "output_type": "execute_result",
          "data": {
            "text/plain": [
              "1"
            ]
          },
          "metadata": {},
          "execution_count": 4
        }
      ]
    },
    {
      "cell_type": "code",
      "source": [
        "# División entera //\n",
        "17//3"
      ],
      "metadata": {
        "id": "MhMXNmcHd_zL",
        "outputId": "bf1d3f6d-174d-41de-873f-534b579377f4",
        "colab": {
          "base_uri": "https://localhost:8080/"
        }
      },
      "execution_count": 5,
      "outputs": [
        {
          "output_type": "execute_result",
          "data": {
            "text/plain": [
              "5"
            ]
          },
          "metadata": {},
          "execution_count": 5
        }
      ]
    },
    {
      "cell_type": "code",
      "source": [
        "# Suma +\n",
        "125.78 + 62.50"
      ],
      "metadata": {
        "id": "CiBiBkMOd_xC",
        "outputId": "2582da3a-c7b3-4eaf-8603-050a2eadb0e6",
        "colab": {
          "base_uri": "https://localhost:8080/"
        }
      },
      "execution_count": 6,
      "outputs": [
        {
          "output_type": "execute_result",
          "data": {
            "text/plain": [
              "188.28"
            ]
          },
          "metadata": {},
          "execution_count": 6
        }
      ]
    },
    {
      "cell_type": "code",
      "source": [
        "# Resta -\n",
        "65.30 - 32.33"
      ],
      "metadata": {
        "id": "V6yEUbx1d_vE",
        "outputId": "b3660273-dbb3-4be3-88d3-65ffd279d0aa",
        "colab": {
          "base_uri": "https://localhost:8080/"
        }
      },
      "execution_count": 7,
      "outputs": [
        {
          "output_type": "execute_result",
          "data": {
            "text/plain": [
              "32.97"
            ]
          },
          "metadata": {},
          "execution_count": 7
        }
      ]
    },
    {
      "cell_type": "markdown",
      "source": [
        "## Las reglas para resolver una expresión aritmética son las siguientes\n",
        "\n",
        "1.- Si una expresión contiene subexpresiones entre paréntesis, estás se evalúan primero; respetando claro está la jerarquía de los operandos aritméticos en esta subexpresión. Si las subexpresiones se encuentran anidadas por paréntesis, primero se evalúan las subexpresiones que se encuentran en el último nivel de anidamiento.\n",
        "\n",
        "2.- Los operandose aritméticos se aplican teniendo en cuenta la jerarquía y de izquierda a derecha."
      ],
      "metadata": {
        "id": "x2H_I2ileLTZ"
      }
    },
    {
      "cell_type": "code",
      "source": [
        "# Ejemplo 1.2, parte a\n",
        "7 + 5 - 6    # Primero se realiza la suma, es decir el resultado sera = 12 - 6, esto se debe a que la suma tiene prioridad sobre la resta\n",
        "12 - 6       # Después se realiza la resta, es decir 12 - 6\n",
        "             # Al ejecutar la celda, el resultado de la operación será igual a 6"
      ],
      "metadata": {
        "id": "wolrAuqtd_sx",
        "outputId": "965a485d-6e67-4c4e-948b-588d76730f5f",
        "colab": {
          "base_uri": "https://localhost:8080/"
        }
      },
      "execution_count": 8,
      "outputs": [
        {
          "output_type": "execute_result",
          "data": {
            "text/plain": [
              "6"
            ]
          },
          "metadata": {},
          "execution_count": 8
        }
      ]
    },
    {
      "cell_type": "code",
      "source": [],
      "metadata": {
        "id": "aeoYR4pRd_pC"
      },
      "execution_count": null,
      "outputs": []
    },
    {
      "cell_type": "code",
      "source": [],
      "metadata": {
        "id": "Z9XZt4Fyd_mQ"
      },
      "execution_count": null,
      "outputs": []
    },
    {
      "cell_type": "code",
      "source": [],
      "metadata": {
        "id": "BOHkJt8Ed_jZ"
      },
      "execution_count": null,
      "outputs": []
    },
    {
      "cell_type": "code",
      "source": [],
      "metadata": {
        "id": "PXTXFPh9acYb"
      },
      "execution_count": null,
      "outputs": []
    }
  ]
}