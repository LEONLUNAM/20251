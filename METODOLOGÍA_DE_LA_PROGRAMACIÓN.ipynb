{
  "nbformat": 4,
  "nbformat_minor": 0,
  "metadata": {
    "colab": {
      "provenance": [],
      "authorship_tag": "ABX9TyP1ocQj2ph+IrFxwXu79Ad0",
      "include_colab_link": true
    },
    "kernelspec": {
      "name": "python3",
      "display_name": "Python 3"
    },
    "language_info": {
      "name": "python"
    }
  },
  "cells": [
    {
      "cell_type": "markdown",
      "metadata": {
        "id": "view-in-github",
        "colab_type": "text"
      },
      "source": [
        "<a href=\"https://colab.research.google.com/github/LEONLUNAM/20251/blob/main/METODOLOG%C3%8DA_DE_LA_PROGRAMACI%C3%93N.ipynb\" target=\"_parent\"><img src=\"https://colab.research.google.com/assets/colab-badge.svg\" alt=\"Open In Colab\"/></a>"
      ]
    },
    {
      "cell_type": "markdown",
      "source": [
        "# 1 Algoritmos, diagramas de flujo y programas."
      ],
      "metadata": {
        "id": "M1NF8n27FM4K"
      }
    },
    {
      "cell_type": "markdown",
      "source": [
        "1.1 Problemas y algoritmos\n",
        "\n",
        "1.2 Diagramas de flujo\n",
        "\n",
        "    1.2.1 Reglas de la construcción de diagramas de flujo\n",
        "\n",
        "1.3 Conceptos fundamentales\n",
        "\n",
        "    1.3.1 Tipos de datos\n",
        "    1.3.2 Identificadores, constantes y variables\n",
        "    1.3.3 Operaciones aritméticas\n",
        "    1.3.4 Expresiones lógicas\n",
        "    1.3.5 Bloque de asignación\n",
        "\n",
        "1.4 Construcción de diagramas de flujo\n",
        "\n",
        "1.5 Problemas\n",
        "\n",
        "    1.5.1 Problemas resueltos"
      ],
      "metadata": {
        "id": "ADnAyVHrFXo4"
      }
    },
    {
      "cell_type": "markdown",
      "source": [
        "Las características que los algoritmos deben reunir son los siguientes\n",
        "\n",
        "Presición: Los pasos a seguir en el algoritmo deben ser precisados claramente\n",
        "\n",
        "Determinismo: El algortimo, dado un conjunto de datos idénticos de entrada, siempre debe arrojar los mismos resultados.\n",
        "\n",
        "Finitud: El algoritmo, independientemente de la complejidad del mismo, siempre debe ser de longitud finita."
      ],
      "metadata": {
        "id": "UrUegd2lHHoZ"
      }
    },
    {
      "cell_type": "markdown",
      "source": [],
      "metadata": {
        "id": "WajXWOfZHHgg"
      }
    },
    {
      "cell_type": "markdown",
      "source": [
        "# 1.3.3 Operaciones aritméticas"
      ],
      "metadata": {
        "id": "AA6L_PZh_mhR"
      }
    },
    {
      "cell_type": "code",
      "execution_count": null,
      "metadata": {
        "id": "BpVuMKeU_gbF"
      },
      "outputs": [],
      "source": []
    }
  ]
}