{
  "nbformat": 4,
  "nbformat_minor": 0,
  "metadata": {
    "colab": {
      "provenance": [],
      "authorship_tag": "ABX9TyOQhuGq3UWjPfw7jFaYTc1k",
      "include_colab_link": true
    },
    "kernelspec": {
      "name": "python3",
      "display_name": "Python 3"
    },
    "language_info": {
      "name": "python"
    }
  },
  "cells": [
    {
      "cell_type": "markdown",
      "metadata": {
        "id": "view-in-github",
        "colab_type": "text"
      },
      "source": [
        "<a href=\"https://colab.research.google.com/github/LEONLUNAM/20251/blob/main/METODOLOG%C3%8DA_DE_LA_PROGRAMACI%C3%93N.ipynb\" target=\"_parent\"><img src=\"https://colab.research.google.com/assets/colab-badge.svg\" alt=\"Open In Colab\"/></a>"
      ]
    },
    {
      "cell_type": "markdown",
      "source": [
        "# 1 Algoritmos, diagramas de flujo y programas."
      ],
      "metadata": {
        "id": "M1NF8n27FM4K"
      }
    },
    {
      "cell_type": "markdown",
      "source": [
        "1.1 Problemas y algoritmos\n",
        "\n",
        "1.2 Diagramas de flujo\n",
        "\n",
        "    1.2.1 Reglas de la construcción de diagramas de flujo\n",
        "\n",
        "1.3 Conceptos fundamentales\n",
        "\n",
        "    1.3.1 Tipos de datos\n",
        "    1.3.2 Identificadores, constantes y variables\n",
        "    1.3.3 Operaciones aritméticas\n",
        "    1.3.4 Expresiones lógicas\n",
        "    1.3.5 Bloque de asignación\n",
        "\n",
        "1.4 Construcción de diagramas de flujo\n",
        "\n",
        "1.5 Problemas\n",
        "\n",
        "    1.5.1 Problemas resueltos"
      ],
      "metadata": {
        "id": "ADnAyVHrFXo4"
      }
    },
    {
      "cell_type": "markdown",
      "source": [
        "Las características que los algoritmos deben reunir son los siguientes\n",
        "\n",
        "Presición: Los pasos a seguir en el algoritmo deben ser precisados claramente\n",
        "\n",
        "Determinismo: El algortimo, dado un conjunto de datos idénticos de entrada, siempre debe arrojar los mismos resultados.\n",
        "\n",
        "Finitud: El algoritmo, independientemente de la complejidad del mismo, siempre debe ser de longitud finita."
      ],
      "metadata": {
        "id": "UrUegd2lHHoZ"
      }
    },
    {
      "cell_type": "markdown",
      "source": [
        "# 1.2 Diagramas de flujo"
      ],
      "metadata": {
        "id": "tbDR2tifICv4"
      }
    },
    {
      "cell_type": "markdown",
      "source": [],
      "metadata": {
        "id": "WajXWOfZHHgg"
      }
    },
    {
      "cell_type": "markdown",
      "source": [
        "Un diagrama de flujo respresenta la esquematización gráfica de un algoritmo. En realidad muestra gráficamente los pasos o procesos a seguir para alcanzar la solución de un problema. Su correcta construcción es sumamente importante porque a partir del mismo se escribe un programa en algún lenguaje de programación. Si el diagrama de flujo está completo y correcto, el paso del mismo a un lenguaje de programación es relativamente simple y directo."
      ],
      "metadata": {
        "id": "mggxKL5TINlI"
      }
    },
    {
      "cell_type": "code",
      "execution_count": null,
      "metadata": {
        "id": "BpVuMKeU_gbF"
      },
      "outputs": [],
      "source": [
        "vfxcbzxczvxcvzxvz"
      ]
    },
    {
      "cell_type": "markdown",
      "source": [
        "# 1.3.2 Identificadores, constantes y variables"
      ],
      "metadata": {
        "id": "KNmhFTX2cxX5"
      }
    },
    {
      "cell_type": "code",
      "source": [],
      "metadata": {
        "id": "A1kVTJGOcxKJ"
      },
      "execution_count": null,
      "outputs": []
    },
    {
      "cell_type": "markdown",
      "source": [
        "# 1.3 Conceptos fundamentales"
      ],
      "metadata": {
        "id": "5ZXLr2lEb6sy"
      }
    },
    {
      "cell_type": "markdown",
      "source": [
        "# 1.3.1 Tipos de datos"
      ],
      "metadata": {
        "id": "TIskSLHsb6Qm"
      }
    },
    {
      "cell_type": "markdown",
      "source": [
        "# 1.3.3 Operaciones aritméticas"
      ],
      "metadata": {
        "id": "AA6L_PZh_mhR"
      }
    },
    {
      "cell_type": "code",
      "source": [
        "# Jerarquía de los operadores aritméticos\n",
        "# 1.- ()\n",
        "# 2.-  **  Potencia\n",
        "# 3.-  *  ,  /  ,  %  ,  //  , Multiplicación, División, Módulo, División entera\n",
        "# 4.-  +  ,  -  , Suma, resta"
      ],
      "metadata": {
        "id": "4r6qtQVkactj"
      },
      "execution_count": null,
      "outputs": []
    },
    {
      "cell_type": "markdown",
      "source": [],
      "metadata": {
        "id": "gQ9rZQSJa65h"
      }
    },
    {
      "cell_type": "code",
      "source": [
        "# Potencia **\n",
        "4**3"
      ],
      "metadata": {
        "colab": {
          "base_uri": "https://localhost:8080/"
        },
        "id": "hYiVxLTVacqa",
        "outputId": "e6195fbc-d39a-415d-8681-ae69ad5aac4f"
      },
      "execution_count": 1,
      "outputs": [
        {
          "output_type": "execute_result",
          "data": {
            "text/plain": [
              "64"
            ]
          },
          "metadata": {},
          "execution_count": 1
        }
      ]
    },
    {
      "cell_type": "code",
      "source": [],
      "metadata": {
        "id": "pQ9-UeX3acnB"
      },
      "execution_count": null,
      "outputs": []
    },
    {
      "cell_type": "code",
      "source": [],
      "metadata": {
        "id": "54LLzETGaccE"
      },
      "execution_count": null,
      "outputs": []
    },
    {
      "cell_type": "code",
      "source": [],
      "metadata": {
        "id": "PXTXFPh9acYb"
      },
      "execution_count": null,
      "outputs": []
    }
  ]
}