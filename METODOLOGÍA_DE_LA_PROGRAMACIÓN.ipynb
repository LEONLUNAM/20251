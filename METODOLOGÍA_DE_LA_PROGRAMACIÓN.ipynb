{
  "nbformat": 4,
  "nbformat_minor": 0,
  "metadata": {
    "colab": {
      "provenance": [],
      "authorship_tag": "ABX9TyOO6XrbL+haTlGBXdVyUEWE",
      "include_colab_link": true
    },
    "kernelspec": {
      "name": "python3",
      "display_name": "Python 3"
    },
    "language_info": {
      "name": "python"
    }
  },
  "cells": [
    {
      "cell_type": "markdown",
      "metadata": {
        "id": "view-in-github",
        "colab_type": "text"
      },
      "source": [
        "<a href=\"https://colab.research.google.com/github/LEONLUNAM/20251/blob/main/METODOLOG%C3%8DA_DE_LA_PROGRAMACI%C3%93N.ipynb\" target=\"_parent\"><img src=\"https://colab.research.google.com/assets/colab-badge.svg\" alt=\"Open In Colab\"/></a>"
      ]
    },
    {
      "cell_type": "markdown",
      "source": [
        "# 1 Algoritmos, diagramas de flujo y programas."
      ],
      "metadata": {
        "id": "M1NF8n27FM4K"
      }
    },
    {
      "cell_type": "markdown",
      "source": [
        "1.1 Problemas y algoritmos\n",
        "\n",
        "1.2 Diagramas de flujo\n",
        "\n",
        "    1.2.1 Reglas de la construcción de diagramas de flujo\n",
        "\n",
        "1.3 Conceptos fundamentales\n",
        "\n",
        "    1.3.1 Tipos de datos\n",
        "    1.3.2 Identificadores, constantes y variables\n",
        "    1.3.3 Operaciones aritméticas ** SE HA COMENZADO A ESCRIBIR, CON LUJO DE DETALLES **, REVISAR LOS CONCEPTOS ANTERIORES A ESTE.\n",
        "    1.3.4 Expresiones lógicas\n",
        "    1.3.5 Bloque de asignación\n",
        "\n",
        "1.4 Construcción de diagramas de flujo\n",
        "\n",
        "1.5 Problemas\n",
        "\n",
        "    1.5.1 Problemas resueltos"
      ],
      "metadata": {
        "id": "ADnAyVHrFXo4"
      }
    },
    {
      "cell_type": "markdown",
      "source": [
        "Las características que los algoritmos deben reunir son los siguientes\n",
        "\n",
        "Presición: Los pasos a seguir en el algoritmo deben ser precisados claramente\n",
        "\n",
        "Determinismo: El algortimo, dado un conjunto de datos idénticos de entrada, siempre debe arrojar los mismos resultados.\n",
        "\n",
        "Finitud: El algoritmo, independientemente de la complejidad del mismo, siempre debe ser de longitud finita."
      ],
      "metadata": {
        "id": "UrUegd2lHHoZ"
      }
    },
    {
      "cell_type": "markdown",
      "source": [
        "# 1.2 Diagramas de flujo"
      ],
      "metadata": {
        "id": "tbDR2tifICv4"
      }
    },
    {
      "cell_type": "markdown",
      "source": [
        "Un diagrama de flujo respresenta la esquematización gráfica de un algoritmo. En realidad muestra gráficamente los pasos o procesos a seguir para alcanzar la solución de un problema. Su correcta construcción es sumamente importante porque a partir del mismo se escribe un programa en algún lenguaje de programación. Si el diagrama de flujo está completo y correcto, el paso del mismo a un lenguaje de programación es relativamente simple y directo."
      ],
      "metadata": {
        "id": "mggxKL5TINlI"
      }
    },
    {
      "cell_type": "markdown",
      "source": [
        "## 1.2.1 Reglas de la construcción de diagramas de flujo"
      ],
      "metadata": {
        "id": "WajXWOfZHHgg"
      }
    },
    {
      "cell_type": "code",
      "execution_count": null,
      "metadata": {
        "id": "BpVuMKeU_gbF"
      },
      "outputs": [],
      "source": []
    },
    {
      "cell_type": "markdown",
      "source": [
        "# 1.3.2 Identificadores, constantes y variables"
      ],
      "metadata": {
        "id": "KNmhFTX2cxX5"
      }
    },
    {
      "cell_type": "code",
      "source": [],
      "metadata": {
        "id": "A1kVTJGOcxKJ"
      },
      "execution_count": null,
      "outputs": []
    },
    {
      "cell_type": "markdown",
      "source": [
        "# 1.3 Conceptos fundamentales"
      ],
      "metadata": {
        "id": "5ZXLr2lEb6sy"
      }
    },
    {
      "cell_type": "markdown",
      "source": [
        "# 1.3.1 Tipos de datos"
      ],
      "metadata": {
        "id": "TIskSLHsb6Qm"
      }
    },
    {
      "cell_type": "markdown",
      "source": [
        "# 1.3.2 Identificadores, constantes y variables"
      ],
      "metadata": {
        "id": "-oen6etBde3L"
      }
    },
    {
      "cell_type": "markdown",
      "source": [
        "# 1.3.3 Operaciones aritméticas"
      ],
      "metadata": {
        "id": "AA6L_PZh_mhR"
      }
    },
    {
      "cell_type": "code",
      "source": [
        "# Jerarquía de los operadores aritméticos\n",
        "# 1.- ()\n",
        "# 2.-  **  Potencia\n",
        "# 3.-  *  ,  /  ,  %  ,  //  , Multiplicación, División, Módulo, División entera\n",
        "# 4.-  +  ,  -  , Suma, resta"
      ],
      "metadata": {
        "id": "4r6qtQVkactj"
      },
      "execution_count": null,
      "outputs": []
    },
    {
      "cell_type": "markdown",
      "source": [],
      "metadata": {
        "id": "gQ9rZQSJa65h"
      }
    },
    {
      "cell_type": "code",
      "source": [
        "# Potencia **\n",
        "4**3"
      ],
      "metadata": {
        "colab": {
          "base_uri": "https://localhost:8080/"
        },
        "id": "hYiVxLTVacqa",
        "outputId": "e6195fbc-d39a-415d-8681-ae69ad5aac4f"
      },
      "execution_count": 1,
      "outputs": [
        {
          "output_type": "execute_result",
          "data": {
            "text/plain": [
              "64"
            ]
          },
          "metadata": {},
          "execution_count": 1
        }
      ]
    },
    {
      "cell_type": "code",
      "source": [
        "# Multiplicación *\n",
        "8.25*7"
      ],
      "metadata": {
        "colab": {
          "base_uri": "https://localhost:8080/"
        },
        "id": "pQ9-UeX3acnB",
        "outputId": "766092e3-9af5-48cd-9243-26d930c09c4b"
      },
      "execution_count": 2,
      "outputs": [
        {
          "output_type": "execute_result",
          "data": {
            "text/plain": [
              "57.75"
            ]
          },
          "metadata": {},
          "execution_count": 2
        }
      ]
    },
    {
      "cell_type": "code",
      "source": [
        "# División /\n",
        "15/4"
      ],
      "metadata": {
        "colab": {
          "base_uri": "https://localhost:8080/"
        },
        "id": "54LLzETGaccE",
        "outputId": "5c3a21a8-911c-4862-a707-4c7106502743"
      },
      "execution_count": 3,
      "outputs": [
        {
          "output_type": "execute_result",
          "data": {
            "text/plain": [
              "3.75"
            ]
          },
          "metadata": {},
          "execution_count": 3
        }
      ]
    },
    {
      "cell_type": "code",
      "source": [
        "# Módulo %\n",
        "15 % 2"
      ],
      "metadata": {
        "colab": {
          "base_uri": "https://localhost:8080/"
        },
        "id": "7kdR20hUd_1N",
        "outputId": "e3ccbe52-1f0f-4915-ccda-0f067d07a168"
      },
      "execution_count": 4,
      "outputs": [
        {
          "output_type": "execute_result",
          "data": {
            "text/plain": [
              "1"
            ]
          },
          "metadata": {},
          "execution_count": 4
        }
      ]
    },
    {
      "cell_type": "code",
      "source": [
        "# División entera //\n",
        "17//3"
      ],
      "metadata": {
        "colab": {
          "base_uri": "https://localhost:8080/"
        },
        "id": "MhMXNmcHd_zL",
        "outputId": "bf1d3f6d-174d-41de-873f-534b579377f4"
      },
      "execution_count": 5,
      "outputs": [
        {
          "output_type": "execute_result",
          "data": {
            "text/plain": [
              "5"
            ]
          },
          "metadata": {},
          "execution_count": 5
        }
      ]
    },
    {
      "cell_type": "code",
      "source": [
        "# Suma +\n",
        "125.78 + 62.50"
      ],
      "metadata": {
        "colab": {
          "base_uri": "https://localhost:8080/"
        },
        "id": "CiBiBkMOd_xC",
        "outputId": "2582da3a-c7b3-4eaf-8603-050a2eadb0e6"
      },
      "execution_count": 6,
      "outputs": [
        {
          "output_type": "execute_result",
          "data": {
            "text/plain": [
              "188.28"
            ]
          },
          "metadata": {},
          "execution_count": 6
        }
      ]
    },
    {
      "cell_type": "code",
      "source": [
        "# Resta -\n",
        "65.30 - 32.33"
      ],
      "metadata": {
        "colab": {
          "base_uri": "https://localhost:8080/"
        },
        "id": "V6yEUbx1d_vE",
        "outputId": "b3660273-dbb3-4be3-88d3-65ffd279d0aa"
      },
      "execution_count": 7,
      "outputs": [
        {
          "output_type": "execute_result",
          "data": {
            "text/plain": [
              "32.97"
            ]
          },
          "metadata": {},
          "execution_count": 7
        }
      ]
    },
    {
      "cell_type": "markdown",
      "source": [
        "## Las reglas para resolver una expresión aritmética son las siguientes\n",
        "\n",
        "1.- Si una expresión contiene subexpresiones entre paréntesis, estás se evalúan primero; respetando claro está la jerarquía de los operandos aritméticos en esta subexpresión. Si las subexpresiones se encuentran anidadas por paréntesis, primero se evalúan las subexpresiones que se encuentran en el último nivel de anidamiento.\n",
        "\n",
        "2.- Los operandose aritméticos se aplican teniendo en cuenta la jerarquía y de izquierda a derecha."
      ],
      "metadata": {
        "id": "x2H_I2ileLTZ"
      }
    },
    {
      "cell_type": "code",
      "source": [
        "# Ejemplo 1.2, parte a\n",
        "7 + 5 - 6    # Primero se realiza la suma, es decir el resultado sera = 12 - 6, esto se debe a que la suma tiene prioridad sobre la resta\n",
        "12 - 6       # Después se realiza la resta, es decir 12 - 6\n",
        "             # Al ejecutar la celda, el resultado de la operación será igual a 6"
      ],
      "metadata": {
        "colab": {
          "base_uri": "https://localhost:8080/"
        },
        "id": "wolrAuqtd_sx",
        "outputId": "965a485d-6e67-4c4e-948b-588d76730f5f"
      },
      "execution_count": 8,
      "outputs": [
        {
          "output_type": "execute_result",
          "data": {
            "text/plain": [
              "6"
            ]
          },
          "metadata": {},
          "execution_count": 8
        }
      ]
    },
    {
      "cell_type": "code",
      "source": [
        "# Ejemplo 1.2, parte b\n",
        "9 + 7 * 8 - 36 / 5      # Primero se realiza la multiplicación, es decir 7 * 8 = 56\n",
        "9 + 56 - 36 / 5         # Después se realiza la división de la expresión, es decir 36 / 5 = 7.2\n",
        "9 + 56 - 7.2            # Después se realiza la suma, es decir 9 + 56 = 65\n",
        "65 - 7.2                # Y finalmente se realiza la resta de la expresión, dando como resultado 57.8\n",
        "# Lo cual concuerda con las operaciones que realizamos paso a paso y el resultado obtenido por el interprete de Python"
      ],
      "metadata": {
        "id": "95pLiRzqfA6V",
        "outputId": "98f9e991-23c9-42cf-bd0d-980946ffd94d",
        "colab": {
          "base_uri": "https://localhost:8080/"
        }
      },
      "execution_count": 9,
      "outputs": [
        {
          "output_type": "execute_result",
          "data": {
            "text/plain": [
              "57.8"
            ]
          },
          "metadata": {},
          "execution_count": 9
        }
      ]
    },
    {
      "cell_type": "code",
      "source": [
        "# Ejemplo 1.2, parte c\n",
        "7 * 5 ** 3 / 4 // 3     # Primero se hace la elevación de 5 al cubo, es decir 5**3 = 125\n",
        "7 * 125 / 4 // 3        # Ahora continuamos con la multiplicación, es decir 7 * 125 = 875\n",
        "875 / 4 // 3            # Se sigue con la división normal, es decir 875 / 3 = 218.75\n",
        "218.75 // 3             # Finalmente, se realiza la división entera 218.75 // 3 = 72.0"
      ],
      "metadata": {
        "id": "MCiUp27kfA3M",
        "outputId": "b6ad4c64-bf19-469a-fd34-59a858c9afce",
        "colab": {
          "base_uri": "https://localhost:8080/"
        }
      },
      "execution_count": 10,
      "outputs": [
        {
          "output_type": "execute_result",
          "data": {
            "text/plain": [
              "72.0"
            ]
          },
          "metadata": {},
          "execution_count": 10
        }
      ]
    },
    {
      "cell_type": "code",
      "source": [
        "# Ejemplo 1.2, parte d\n",
        "7 * 8 * (160 % 3 ** 3) // 5 * 13 - 28   # Comenzamos haciendo las operaciones que hay dentro del paréntesis, y todo inicia con el exponente 3 ** 3 = 27\n",
        "7 * 8 * (160 % 27) // 5 * 13 - 28       # Continuamos haciendo la operación de módulo dentro del paréntesis 160 % 27 = 25\n",
        "7 * 8 * 25 // 5 * 13 - 28               # Ahora continuamos con las multiplicaciones, al haber 2 multiplicaciones continuas dentro de la expresión recordamos el hecho de que la expresión aritmética se resuelve de izquierda a derecha\n",
        "56 * 25 // 5 * 13 - 28                  # Multiplicamos nuevamente, obteniendo 56 * 25 = 1400\n",
        "1400 // 5 * 13 - 28                     # Realizamos la división completa, de 1400 // 5 = 280\n",
        "280 * 13 - 28                           # Multiplicamos nuevamente el valor de 280 * 13 = 3640\n",
        "3640 - 28                               # Finalmente realizamos la resta de estos 2 últimos valores, obteniendo 3612"
      ],
      "metadata": {
        "id": "W-MXLidofAxS",
        "outputId": "8f75617c-a63b-4ee2-f87b-5b2c6184f785",
        "colab": {
          "base_uri": "https://localhost:8080/"
        }
      },
      "execution_count": 11,
      "outputs": [
        {
          "output_type": "execute_result",
          "data": {
            "text/plain": [
              "3612"
            ]
          },
          "metadata": {},
          "execution_count": 11
        }
      ]
    },
    {
      "cell_type": "code",
      "source": [],
      "metadata": {
        "id": "z-QRO1kefAuR"
      },
      "execution_count": null,
      "outputs": []
    },
    {
      "cell_type": "markdown",
      "source": [],
      "metadata": {
        "id": "Necx1XzNe_Hh"
      }
    },
    {
      "cell_type": "code",
      "source": [],
      "metadata": {
        "id": "aeoYR4pRd_pC"
      },
      "execution_count": null,
      "outputs": []
    },
    {
      "cell_type": "code",
      "source": [],
      "metadata": {
        "id": "Z9XZt4Fyd_mQ"
      },
      "execution_count": null,
      "outputs": []
    },
    {
      "cell_type": "code",
      "source": [],
      "metadata": {
        "id": "BOHkJt8Ed_jZ"
      },
      "execution_count": null,
      "outputs": []
    },
    {
      "cell_type": "code",
      "source": [],
      "metadata": {
        "id": "PXTXFPh9acYb"
      },
      "execution_count": null,
      "outputs": []
    }
  ]
}