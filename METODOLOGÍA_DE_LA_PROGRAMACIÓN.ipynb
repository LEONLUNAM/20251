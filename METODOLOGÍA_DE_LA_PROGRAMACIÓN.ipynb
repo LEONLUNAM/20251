{
  "nbformat": 4,
  "nbformat_minor": 0,
  "metadata": {
    "colab": {
      "provenance": [],
      "authorship_tag": "ABX9TyNoKXQi6+t41JMvUsrz4f7l",
      "include_colab_link": true
    },
    "kernelspec": {
      "name": "python3",
      "display_name": "Python 3"
    },
    "language_info": {
      "name": "python"
    }
  },
  "cells": [
    {
      "cell_type": "markdown",
      "metadata": {
        "id": "view-in-github",
        "colab_type": "text"
      },
      "source": [
        "<a href=\"https://colab.research.google.com/github/LEONLUNAM/20251/blob/main/METODOLOG%C3%8DA_DE_LA_PROGRAMACI%C3%93N.ipynb\" target=\"_parent\"><img src=\"https://colab.research.google.com/assets/colab-badge.svg\" alt=\"Open In Colab\"/></a>"
      ]
    },
    {
      "cell_type": "markdown",
      "source": [
        "# 1 Algoritmos, diagramas de flujo y programas."
      ],
      "metadata": {
        "id": "M1NF8n27FM4K"
      }
    },
    {
      "cell_type": "markdown",
      "source": [
        "1.1 Problemas y algoritmos\n",
        "\n",
        "1.2 Diagramas de flujo\n",
        "\n",
        "    1.2.1 Reglas de la construcción de diagramas de flujo\n",
        "\n",
        "1.3 Conceptos fundamentales\n",
        "\n",
        "    1.3.1 Tipos de datos\n",
        "    1.3.2 Identificadores, constantes y variables\n",
        "    1.3.3 Operaciones aritméticas ** SE HA COMENZADO A ESCRIBIR, CON LUJO DE DETALLES **, REVISAR LOS CONCEPTOS ANTERIORES A ESTE.\n",
        "    1.3.4 Expresiones lógicas\n",
        "    1.3.5 Bloque de asignación\n",
        "\n",
        "1.4 Construcción de diagramas de flujo\n",
        "\n",
        "1.5 Problemas\n",
        "\n",
        "    1.5.1 Problemas resueltos"
      ],
      "metadata": {
        "id": "ADnAyVHrFXo4"
      }
    },
    {
      "cell_type": "code",
      "source": [
        "# INICIO DE ESTE CUADERNO, 8 DE ENERO DEL 2025"
      ],
      "metadata": {
        "id": "FVFRNugpiW9Q"
      },
      "execution_count": null,
      "outputs": []
    },
    {
      "cell_type": "markdown",
      "source": [
        "## 1.1 Problemas y algoritmos\n",
        "\n",
        "Continuamente seguimos una serie de pasos o conjunto de acciones que nos permiten alcanzar un resultado.\n",
        "Estamos en realidad aplicando un algoritmo para resolver un problema.  \n",
        "\n",
        "\" Formalmente definimos un algoritmo como un conjunto de pasos, procedimientos o acciones que nos permiten alcanzar un resultado o resolver un problema \".\n",
        "\n",
        "Existe una gran cantidad de problemas que requiren de un análisis profundo y de un pensamiento flexible y estructurado para su solución."
      ],
      "metadata": {
        "id": "OUF_1-rBk7Tk"
      }
    },
    {
      "cell_type": "code",
      "source": [
        "# ¿ Podemos enseñar a resolver un problema ?\n",
        "# ¿ Podemos enseñar a analizar el mismo ?\n",
        "# ¿ Podemos enseñar a pensar.....?\n",
        "\n",
        "# No existen reglas específicas que nos permitan resolver un problema."
      ],
      "metadata": {
        "id": "GW3Au_iliW6Q"
      },
      "execution_count": null,
      "outputs": []
    },
    {
      "cell_type": "markdown",
      "source": [
        "Si bien, en el cuadro precedente, se mencionó un hecho importante, es importante mencionar que existen un conjunto de técnicas y herramientas metodológicas que permitan flexibilizar y estructurar el razonamiento utilizado en la solución de un problema.\n",
        "De esta manera construiremos algoritmos eficientes."
      ],
      "metadata": {
        "id": "j2DmH5cHnlpD"
      }
    },
    {
      "cell_type": "code",
      "source": [
        "#                                                        ____________\n",
        "#                                                       | PROBLEMA |\n",
        "#                                                        ------------\n",
        "\n",
        "# ;;:::___________________________               _:::________________________           -::;:________________________\n",
        "# |ANÁLISIS PROFUNDO DEL PROBLEMA|               |CONSTRUCCIÓN DEL ALGORITMO|           |VERIFICACIÓN DEL ALGORITMO|\n",
        "# .....-..--------------------------- -       ---------------------------------- ------------------------------------"
      ],
      "metadata": {
        "id": "YqCfZ7eBiW2-"
      },
      "execution_count": null,
      "outputs": []
    },
    {
      "cell_type": "code",
      "source": [],
      "metadata": {
        "id": "k-nSmwt1iWyk"
      },
      "execution_count": null,
      "outputs": []
    },
    {
      "cell_type": "code",
      "source": [],
      "metadata": {
        "id": "q5wLDwoGiWrx"
      },
      "execution_count": null,
      "outputs": []
    },
    {
      "cell_type": "code",
      "source": [],
      "metadata": {
        "id": "0lEFyp9tiWok"
      },
      "execution_count": null,
      "outputs": []
    },
    {
      "cell_type": "markdown",
      "source": [
        "Las características que los algoritmos deben reunir son los siguientes\n",
        "\n",
        "Presición: Los pasos a seguir en el algoritmo deben ser precisados claramente\n",
        "\n",
        "Determinismo: El algortimo, dado un conjunto de datos idénticos de entrada, siempre debe arrojar los mismos resultados.\n",
        "\n",
        "Finitud: El algoritmo, independientemente de la complejidad del mismo, siempre debe ser de longitud finita."
      ],
      "metadata": {
        "id": "UrUegd2lHHoZ"
      }
    },
    {
      "cell_type": "markdown",
      "source": [
        "# 1.2 Diagramas de flujo"
      ],
      "metadata": {
        "id": "tbDR2tifICv4"
      }
    },
    {
      "cell_type": "markdown",
      "source": [
        "Un diagrama de flujo respresenta la esquematización gráfica de un algoritmo. En realidad muestra gráficamente los pasos o procesos a seguir para alcanzar la solución de un problema. Su correcta construcción es sumamente importante porque a partir del mismo se escribe un programa en algún lenguaje de programación. Si el diagrama de flujo está completo y correcto, el paso del mismo a un lenguaje de programación es relativamente simple y directo."
      ],
      "metadata": {
        "id": "mggxKL5TINlI"
      }
    },
    {
      "cell_type": "markdown",
      "source": [
        "## 1.2.1 Reglas de la construcción de diagramas de flujo"
      ],
      "metadata": {
        "id": "WajXWOfZHHgg"
      }
    },
    {
      "cell_type": "code",
      "execution_count": null,
      "metadata": {
        "id": "BpVuMKeU_gbF"
      },
      "outputs": [],
      "source": []
    },
    {
      "cell_type": "markdown",
      "source": [
        "# 1.3.2 Identificadores, constantes y variables"
      ],
      "metadata": {
        "id": "KNmhFTX2cxX5"
      }
    },
    {
      "cell_type": "code",
      "source": [],
      "metadata": {
        "id": "A1kVTJGOcxKJ"
      },
      "execution_count": null,
      "outputs": []
    },
    {
      "cell_type": "markdown",
      "source": [
        "# 1.3 Conceptos fundamentales"
      ],
      "metadata": {
        "id": "5ZXLr2lEb6sy"
      }
    },
    {
      "cell_type": "markdown",
      "source": [
        "# 1.3.1 Tipos de datos"
      ],
      "metadata": {
        "id": "TIskSLHsb6Qm"
      }
    },
    {
      "cell_type": "markdown",
      "source": [
        "# 1.3.2 Identificadores, constantes y variables"
      ],
      "metadata": {
        "id": "-oen6etBde3L"
      }
    },
    {
      "cell_type": "markdown",
      "source": [
        "# 1.3.3 Operaciones aritméticas"
      ],
      "metadata": {
        "id": "AA6L_PZh_mhR"
      }
    },
    {
      "cell_type": "code",
      "source": [
        "# Jerarquía de los operadores aritméticos\n",
        "# 1.- ()\n",
        "# 2.-  **  Potencia\n",
        "# 3.-  *  ,  /  ,  %  ,  //  , Multiplicación, División, Módulo, División entera\n",
        "# 4.-  +  ,  -  , Suma, resta"
      ],
      "metadata": {
        "id": "4r6qtQVkactj"
      },
      "execution_count": null,
      "outputs": []
    },
    {
      "cell_type": "markdown",
      "source": [],
      "metadata": {
        "id": "gQ9rZQSJa65h"
      }
    },
    {
      "cell_type": "code",
      "source": [
        "# Potencia **\n",
        "4**3"
      ],
      "metadata": {
        "colab": {
          "base_uri": "https://localhost:8080/"
        },
        "id": "hYiVxLTVacqa",
        "outputId": "e6195fbc-d39a-415d-8681-ae69ad5aac4f"
      },
      "execution_count": 1,
      "outputs": [
        {
          "output_type": "execute_result",
          "data": {
            "text/plain": [
              "64"
            ]
          },
          "metadata": {},
          "execution_count": 1
        }
      ]
    },
    {
      "cell_type": "code",
      "source": [
        "# Multiplicación *\n",
        "8.25*7"
      ],
      "metadata": {
        "colab": {
          "base_uri": "https://localhost:8080/"
        },
        "id": "pQ9-UeX3acnB",
        "outputId": "766092e3-9af5-48cd-9243-26d930c09c4b"
      },
      "execution_count": 2,
      "outputs": [
        {
          "output_type": "execute_result",
          "data": {
            "text/plain": [
              "57.75"
            ]
          },
          "metadata": {},
          "execution_count": 2
        }
      ]
    },
    {
      "cell_type": "code",
      "source": [
        "# División /\n",
        "15/4"
      ],
      "metadata": {
        "colab": {
          "base_uri": "https://localhost:8080/"
        },
        "id": "54LLzETGaccE",
        "outputId": "5c3a21a8-911c-4862-a707-4c7106502743"
      },
      "execution_count": 3,
      "outputs": [
        {
          "output_type": "execute_result",
          "data": {
            "text/plain": [
              "3.75"
            ]
          },
          "metadata": {},
          "execution_count": 3
        }
      ]
    },
    {
      "cell_type": "code",
      "source": [
        "# Módulo %\n",
        "15 % 2"
      ],
      "metadata": {
        "colab": {
          "base_uri": "https://localhost:8080/"
        },
        "id": "7kdR20hUd_1N",
        "outputId": "e3ccbe52-1f0f-4915-ccda-0f067d07a168"
      },
      "execution_count": 4,
      "outputs": [
        {
          "output_type": "execute_result",
          "data": {
            "text/plain": [
              "1"
            ]
          },
          "metadata": {},
          "execution_count": 4
        }
      ]
    },
    {
      "cell_type": "code",
      "source": [
        "# División entera //\n",
        "17//3"
      ],
      "metadata": {
        "colab": {
          "base_uri": "https://localhost:8080/"
        },
        "id": "MhMXNmcHd_zL",
        "outputId": "bf1d3f6d-174d-41de-873f-534b579377f4"
      },
      "execution_count": 5,
      "outputs": [
        {
          "output_type": "execute_result",
          "data": {
            "text/plain": [
              "5"
            ]
          },
          "metadata": {},
          "execution_count": 5
        }
      ]
    },
    {
      "cell_type": "code",
      "source": [
        "# Suma +\n",
        "125.78 + 62.50"
      ],
      "metadata": {
        "colab": {
          "base_uri": "https://localhost:8080/"
        },
        "id": "CiBiBkMOd_xC",
        "outputId": "2582da3a-c7b3-4eaf-8603-050a2eadb0e6"
      },
      "execution_count": 6,
      "outputs": [
        {
          "output_type": "execute_result",
          "data": {
            "text/plain": [
              "188.28"
            ]
          },
          "metadata": {},
          "execution_count": 6
        }
      ]
    },
    {
      "cell_type": "code",
      "source": [
        "# Resta -\n",
        "65.30 - 32.33"
      ],
      "metadata": {
        "colab": {
          "base_uri": "https://localhost:8080/"
        },
        "id": "V6yEUbx1d_vE",
        "outputId": "b3660273-dbb3-4be3-88d3-65ffd279d0aa"
      },
      "execution_count": 7,
      "outputs": [
        {
          "output_type": "execute_result",
          "data": {
            "text/plain": [
              "32.97"
            ]
          },
          "metadata": {},
          "execution_count": 7
        }
      ]
    },
    {
      "cell_type": "markdown",
      "source": [
        "## Las reglas para resolver una expresión aritmética son las siguientes\n",
        "\n",
        "1.- Si una expresión contiene subexpresiones entre paréntesis, estás se evalúan primero; respetando claro está la jerarquía de los operandos aritméticos en esta subexpresión. Si las subexpresiones se encuentran anidadas por paréntesis, primero se evalúan las subexpresiones que se encuentran en el último nivel de anidamiento.\n",
        "\n",
        "2.- Los operandose aritméticos se aplican teniendo en cuenta la jerarquía y de izquierda a derecha."
      ],
      "metadata": {
        "id": "x2H_I2ileLTZ"
      }
    },
    {
      "cell_type": "code",
      "source": [
        "# Ejemplo 1.2, parte a\n",
        "7 + 5 - 6    # Primero se realiza la suma, es decir el resultado sera = 12 - 6, esto se debe a que la suma tiene prioridad sobre la resta\n",
        "12 - 6       # Después se realiza la resta, es decir 12 - 6\n",
        "             # Al ejecutar la celda, el resultado de la operación será igual a 6"
      ],
      "metadata": {
        "colab": {
          "base_uri": "https://localhost:8080/"
        },
        "id": "wolrAuqtd_sx",
        "outputId": "965a485d-6e67-4c4e-948b-588d76730f5f"
      },
      "execution_count": 8,
      "outputs": [
        {
          "output_type": "execute_result",
          "data": {
            "text/plain": [
              "6"
            ]
          },
          "metadata": {},
          "execution_count": 8
        }
      ]
    },
    {
      "cell_type": "code",
      "source": [
        "# Ejemplo 1.2, parte b\n",
        "9 + 7 * 8 - 36 / 5      # Primero se realiza la multiplicación, es decir 7 * 8 = 56\n",
        "9 + 56 - 36 / 5         # Después se realiza la división de la expresión, es decir 36 / 5 = 7.2\n",
        "9 + 56 - 7.2            # Después se realiza la suma, es decir 9 + 56 = 65\n",
        "65 - 7.2                # Y finalmente se realiza la resta de la expresión, dando como resultado 57.8\n",
        "# Lo cual concuerda con las operaciones que realizamos paso a paso y el resultado obtenido por el interprete de Python"
      ],
      "metadata": {
        "colab": {
          "base_uri": "https://localhost:8080/"
        },
        "id": "95pLiRzqfA6V",
        "outputId": "98f9e991-23c9-42cf-bd0d-980946ffd94d"
      },
      "execution_count": 9,
      "outputs": [
        {
          "output_type": "execute_result",
          "data": {
            "text/plain": [
              "57.8"
            ]
          },
          "metadata": {},
          "execution_count": 9
        }
      ]
    },
    {
      "cell_type": "code",
      "source": [
        "# Ejemplo 1.2, parte c\n",
        "7 * 5 ** 3 / 4 // 3     # Primero se hace la elevación de 5 al cubo, es decir 5**3 = 125\n",
        "7 * 125 / 4 // 3        # Ahora continuamos con la multiplicación, es decir 7 * 125 = 875\n",
        "875 / 4 // 3            # Se sigue con la división normal, es decir 875 / 3 = 218.75\n",
        "218.75 // 3             # Finalmente, se realiza la división entera 218.75 // 3 = 72.0"
      ],
      "metadata": {
        "colab": {
          "base_uri": "https://localhost:8080/"
        },
        "id": "MCiUp27kfA3M",
        "outputId": "b6ad4c64-bf19-469a-fd34-59a858c9afce"
      },
      "execution_count": 10,
      "outputs": [
        {
          "output_type": "execute_result",
          "data": {
            "text/plain": [
              "72.0"
            ]
          },
          "metadata": {},
          "execution_count": 10
        }
      ]
    },
    {
      "cell_type": "code",
      "source": [
        "# Ejemplo 1.2, parte d\n",
        "7 * 8 * (160 % 3 ** 3) // 5 * 13 - 28   # Comenzamos haciendo las operaciones que hay dentro del paréntesis, y todo inicia con el exponente 3 ** 3 = 27\n",
        "7 * 8 * (160 % 27) // 5 * 13 - 28       # Continuamos haciendo la operación de módulo dentro del paréntesis 160 % 27 = 25\n",
        "7 * 8 * 25 // 5 * 13 - 28               # Ahora continuamos con las multiplicaciones, al haber 2 multiplicaciones continuas dentro de la expresión recordamos el hecho de que la expresión aritmética se resuelve de izquierda a derecha\n",
        "56 * 25 // 5 * 13 - 28                  # Multiplicamos nuevamente, obteniendo 56 * 25 = 1400\n",
        "1400 // 5 * 13 - 28                     # Realizamos la división completa, de 1400 // 5 = 280\n",
        "280 * 13 - 28                           # Multiplicamos nuevamente el valor de 280 * 13 = 3640\n",
        "3640 - 28                               # Finalmente realizamos la resta de estos 2 últimos valores, obteniendo 3612"
      ],
      "metadata": {
        "colab": {
          "base_uri": "https://localhost:8080/"
        },
        "id": "W-MXLidofAxS",
        "outputId": "8f75617c-a63b-4ee2-f87b-5b2c6184f785"
      },
      "execution_count": 11,
      "outputs": [
        {
          "output_type": "execute_result",
          "data": {
            "text/plain": [
              "3612"
            ]
          },
          "metadata": {},
          "execution_count": 11
        }
      ]
    },
    {
      "cell_type": "code",
      "source": [
        "# Ejemplo 1.2, parte e\n",
        "15 / 2 * (7 + (68 - 15 * 33 + (45 ** 2 / 16) / 3) / 15) + 19   # Comenzamos realizando la elevación de 45 al cuadrado, puesto que es una operación que está contenida dentro de 3 paréntesis, entonces 45 ** 2 = 2025\n",
        "15 / 2 * (7 + (68 - 15 * 33 + (2025 / 16) / 3) / 15) + 19      # Enseguida realizamos la operación 2025 / 16, la división normal de toda la vida, contenida dentro del mismo paréntesis de la primera operación, entonces 2025 / 16 = 126.5625\n",
        "15 / 2 * (7 + (68 - 15 * 33 + 126.5625 / 3) / 15) + 19         # Ahora se múltiplica 15 * 33 = 495\n",
        "15 / 2 * (7 + (68 - 495 + 126.5625 / 3) / 15) + 19             # Se realiza la división de toda la vida de 126.5625 / 3 = 42.1875\n",
        "15 / 2 * (7 + (68 - 495 + 42.1875) / 15) + 19                  # Realizamos la resta dentro del segundo paréntesis 68 - 495 = - 427  ( NOTESÉ EL VALOR NEGATIVO )\n",
        "15 / 2 * (7 + (-427 + 42.1875) / 15) + 19                      # Realizamos la suma dentro del segundo paréntesis -427 + 42.1875 = -384.8125\n",
        "15 / 2 * (7 -384.8125 / 15) + 19                               # Se realiza la división dentro del segundo paréntesis -384.8125 / 15 = -25.654166666666665\n",
        "15 / 2 * (7 -25.654166666666665) + 19                          # Se realiza la resta dentro del segundo paréntesis\n",
        "15 / 2 * (-18.654166666666665) + 19                            # En este punto ya podemos quitar el segundo paréntesis\n",
        "7.5 * -18.654166666666665 + 19                                 # Se realiza la división de 15 / 2 = 7.5\n",
        "-139.90625 + 19                                                # Se realiza la multiplicación de 7.5 * -18.654166666666665 = -139.90625\n",
        "                                                               # Se realiza la última suma dentro de la expresión algebráica"
      ],
      "metadata": {
        "colab": {
          "base_uri": "https://localhost:8080/"
        },
        "id": "z-QRO1kefAuR",
        "outputId": "69d50373-d03f-44ad-c4d3-cf0b52cd3ca0"
      },
      "execution_count": 12,
      "outputs": [
        {
          "output_type": "execute_result",
          "data": {
            "text/plain": [
              "-120.90625"
            ]
          },
          "metadata": {},
          "execution_count": 12
        }
      ]
    },
    {
      "cell_type": "code",
      "source": [
        "7.5 * -18.654166666666665"
      ],
      "metadata": {
        "colab": {
          "base_uri": "https://localhost:8080/"
        },
        "id": "n-iRWv6khaF5",
        "outputId": "c58b0ba3-a267-4dfa-9c2d-c48cc1098410"
      },
      "execution_count": 13,
      "outputs": [
        {
          "output_type": "execute_result",
          "data": {
            "text/plain": [
              "-139.90625"
            ]
          },
          "metadata": {},
          "execution_count": 13
        }
      ]
    },
    {
      "cell_type": "markdown",
      "source": [
        "# 1.3.4 Expresiones lógicas\n",
        "## Operadores relacionales"
      ],
      "metadata": {
        "id": "Necx1XzNe_Hh"
      }
    },
    {
      "cell_type": "code",
      "source": [
        "# Operadores relacionales\n",
        "#     |  Operador  |  Operación  |      Ejemplo      |    Resultado    |\n",
        "#-----------------------------------------------------------------------\n",
        "# 1.- |     =      |  Igual que  |  'hola' = 'lola'  |      FALSO      |        En Python el operador igual es ==\n",
        "#-----------------------------------------------------------------------\n",
        "# 2.- |    < >     | Diferente a |    'a' < > 'b'    |    VERDADERO    |        En Python el operador diferente a es !=\n",
        "#-----------------------------------------------------------------------\n",
        "# 3.- |     <      |  Menor que  |       7 < 15      |    VERDADERO    |\n",
        "#-----------------------------------------------------------------------\n",
        "# 4.- |     >      |  Mayor que  |      22 > 11      |    VERDADERO    |\n",
        "#-----------------------------------------------------------------------\n",
        "# 5.- |    <=      |Menor o= que |      15 <= 22     |    VERDADERO    |\n",
        "#-----------------------------------------------------------------------\n",
        "# 6.- |    >=      |Mayor o= que |      35 >= 20     |    VERDADERO    |"
      ],
      "metadata": {
        "id": "aeoYR4pRd_pC"
      },
      "execution_count": null,
      "outputs": []
    },
    {
      "cell_type": "code",
      "source": [
        "# Ejemplo 1.3 caso a\n",
        "# A = 5\n",
        "# B = 16\n",
        "A = 5\n",
        "B = 16\n",
        "(A ** 2) > (B * 2)   # Comenzamos elevando 5 al cuadrado: 5 ** 2 = 25\n",
        "(5 ** 2) > (16 * 2)  # Hacemos la multiplicación de 16 * 2 = 32\n",
        "# 25 > 32              Lo cual es falso"
      ],
      "metadata": {
        "colab": {
          "base_uri": "https://localhost:8080/"
        },
        "id": "Z9XZt4Fyd_mQ",
        "outputId": "83a3130c-f305-4d2d-a290-f951e4a48706"
      },
      "execution_count": 14,
      "outputs": [
        {
          "output_type": "execute_result",
          "data": {
            "text/plain": [
              "False"
            ]
          },
          "metadata": {},
          "execution_count": 14
        }
      ]
    },
    {
      "cell_type": "code",
      "source": [
        "# Ejemplo 1.3 caso b\n",
        "# X = 6\n",
        "# B = 7.8\n",
        "X = 6\n",
        "B = 7.8\n",
        "(X * 5 + B ** 3 / 4) <= (X ** 3 // B)        # Comenzamos sustituyendo los valores de X y B\n",
        "(6 * 5 + 7.8 ** 3 / 4) <= (6 ** 3 // 7.8)    # Ahora realizamos las operaciones que involucran potencias, del lado derecho e izquierdo de la expresión\n",
        "(6 * 5 + 474.552 / 4) <= (216 // 7.8)        # 7.8 ** 3 = 474.552 del lado izquierdo, y 6 ** 3 = 216\n",
        "(30 + 474.552 / 4) <= (216 // 7.8)           # Ahora se realiza la multiplicación de 6 * 5 = 30\n",
        "(30 + 118.638) <= (216 // 7.8)               # Se realiza la división del lado izquierdo 474.552 / 4 = 118.638\n",
        "118.638 <= (216 // 7.8)                      # Se realiza la suma del lado izquierdo\n",
        "118.638 <= 27.0                              # Se realiza la división entera del lado derecho\n",
        "                                             # 118.638 no es menor o igual que 27.0, lo cual es falso, y el resultado que muestra el interprete de Python es correcto\n",
        "                                             # Es decir falso"
      ],
      "metadata": {
        "colab": {
          "base_uri": "https://localhost:8080/"
        },
        "id": "BOHkJt8Ed_jZ",
        "outputId": "ba59e625-9b20-46ae-c28a-46cb0b3d7bf9"
      },
      "execution_count": 15,
      "outputs": [
        {
          "output_type": "execute_result",
          "data": {
            "text/plain": [
              "False"
            ]
          },
          "metadata": {},
          "execution_count": 15
        }
      ]
    },
    {
      "cell_type": "code",
      "source": [
        "# Ejemplo 1.3 caso c\n",
        "((1580 % 6 * 2 ** 7) > (7 + 8 * 3 ** 4)) > ((15 * 2) == (60 * 2 / 4))     # Comenzamos realizando la elevación de 2 ** 7 = 128\n",
        "((1580 % 6 * 128) > (7 + 8 * 3 ** 4)) > ((15 * 2) == (60 * 2 / 4))        # Continuamos haciendo el módulo de 1580 % 6 = 2\n",
        "((2 * 128) > (7 + 8 * 3 ** 4)) > ((15 * 2) == (60 * 2 / 4))               # Ahora se hace la multiplicación del lado izquierdo\n",
        "(256 > (7 + 8 * 3 ** 4)) > ((15 * 2) == (60 * 2 / 4))                     # Ahora se hacen las operaciones dentro del segúndo paréntesis que hay dentro del primer paréntesis, comenzando con elevar 3 a la cuarta potencia 3 ** 4 = 81\n",
        "(256 > (7 + 8 * 81)) > ((15 * 2) == (60 * 2 / 4))                         # Ahora se hace la multiplicación de 81 * 8 = 648\n",
        "(256 > (7 + 648)) > ((15 * 2) == (60 * 2 / 4))                            # Se realiza la suma de 7 + 648 = 655\n",
        "(256 > 655) > ((15 * 2) == (60 * 2 / 4))                                  # Se realiza la comparación del primer paréntesis de la izquierda, cuyo valor es falso\n",
        "False > (30 == (60 * 2 / 4))                                              # Se realiza la multiplicación 15 * 2 = 30\n",
        "False > (30 == (120 / 4))                                                 # Se realiza la división de toda la vida 120 / 4 = 30.0\n",
        "False > True                                                              # 30 == 30 es igual a True\n",
        "False                                                                     #\n",
        "# Cuando se utilizan los operadores de relación con operadores lógicos, falso es menor que verdadero\n",
        "# Por lo tanto False > True, es False, el cual es el resultado esperado y el que se muestra en consola al ejecutar el código"
      ],
      "metadata": {
        "colab": {
          "base_uri": "https://localhost:8080/"
        },
        "id": "eRpyOHdIh4Is",
        "outputId": "5fcf0dc1-1ebc-4fea-c0a6-d37598978b80"
      },
      "execution_count": 16,
      "outputs": [
        {
          "output_type": "execute_result",
          "data": {
            "text/plain": [
              "False"
            ]
          },
          "metadata": {},
          "execution_count": 16
        }
      ]
    },
    {
      "cell_type": "markdown",
      "source": [
        "## Operadores lógicos\n",
        "Los operadores lógicos son operadores que permiten formular condiciones complejas a partir de condiciones simples. Los operadores lógicos son de conjunción(y), disyunción(o), y negación(no)"
      ],
      "metadata": {
        "id": "xvoHa_yLh_-x"
      }
    },
    {
      "cell_type": "code",
      "source": [
        "# Operadores Lógicos\n",
        "#     |  Operador   |  Jerarquía  |  Expresión lógica  |    Significado    |\n",
        "#---------------------------------------------------------------------------\n",
        "# 1.- |     NO      |    Mayor    |        No P        |No es cierto que P |\n",
        "#     |             |             |                    |  Es falso que P   |\n",
        "#---------------------------------------------------------------------------\n",
        "# 2.- |      Y      |             |       P y Q        |       P ^ Q       |\n",
        "#     |             |             |                    |  P sin embargo Q  |\n",
        "#---------------------------------------------------------------------------\n",
        "# 3.- |      O      |    Menor    |       P o Q        |       P o Q       |\n",
        "#     |             |             |                    |  o P o Q o ambas  |\n",
        "#     |             |             |                    |   Mínimo P o Q    |\n",
        "#---------------------------------------------------------------------------"
      ],
      "metadata": {
        "id": "1ZHqRsP9h-ck"
      },
      "execution_count": null,
      "outputs": []
    },
    {
      "cell_type": "code",
      "source": [
        "# Jerarquía de todos los operadores\n",
        "# 1.- ()                       Mayor\n",
        "# 2.- **\n",
        "# 3.- *, /, //, %\n",
        "# 4.- ==, !=, <, >, <=, >=\n",
        "# 5.- No\n",
        "# 6.- Y\n",
        "# 7.- O                        Menor\n",
        "# El operador () es un operador asociativo que tiene la prioridad más alta en cualquier lenguaje de programación.\n",
        "# Por otra parte, debemos señalar que en ciertos lenguajes, las prioridades de los operadores se manejan en forma diferente.\n",
        "# Por ejemplo, el operadore lógico de negación No en el lenguaje de programación C tiene  la prioridad más alta después del operador asociativo."
      ],
      "metadata": {
        "id": "edkxKsXxh4Fb"
      },
      "execution_count": null,
      "outputs": []
    },
    {
      "cell_type": "code",
      "source": [
        "# Ejemplo 1.4 caso a\n",
        "not(15 >= 7 ** 2) or (43 - 8 * 2 // 4 != 3 * 2 // 2)    # Comenzamos realizando la elevación de 7 ** 2 = 49\n",
        "not(15 >= 49) or (43 - 8 * 2 // 4 != 3 * 2 // 2)        # A continuación hacemos la primera comparación de izquierda a derecha, y también la multiplicación del segundo párentesis de izquierda a derecha\n",
        "not(False) or (43 - 16 // 4 != 3 * 2 // 2)              # Se realiza la división entera del valor 16 // 4 = 4.0\n",
        "not(False) or (43 - 4 != 3 * 2 // 2)                    # Continuamos con la multiplicación del valor 3 * 2 = 6\n",
        "not(False) or (43 - 4 != 6 // 2)                        # Nuevamente se realiza una división entera del valor 6 // 2 = 3\n",
        "not(False) or (43 - 4 != 3)                             # Ahora continuamos con la resta del valor 43 - 4 = 39\n",
        "not(False) or (39 != 3)                                 # Continuamos con la comparación entre el valor 39 != 3, lo cual es verdad, 39 es desigual que 3\n",
        "not(False) or (True)                                    # La negación de False, del lado izquierdo, es lógicamente verdadero, por lo tanto True\n",
        "True or True                                            # Verdadero o Verdadero es igual a Verdadero, tal como se espera, el resultado de ejecutar la expresión es verdadero, True"
      ],
      "metadata": {
        "colab": {
          "base_uri": "https://localhost:8080/"
        },
        "id": "sCEyooiNh3_C",
        "outputId": "419c5677-4cd0-40fc-9f23-fdf7e677f0e3"
      },
      "execution_count": 17,
      "outputs": [
        {
          "output_type": "execute_result",
          "data": {
            "text/plain": [
              "True"
            ]
          },
          "metadata": {},
          "execution_count": 17
        }
      ]
    },
    {
      "cell_type": "code",
      "source": [
        "39 != 3"
      ],
      "metadata": {
        "colab": {
          "base_uri": "https://localhost:8080/"
        },
        "id": "-ESESD1ph38T",
        "outputId": "88c61b16-3b1e-4167-8b50-43b48228c7e5"
      },
      "execution_count": 18,
      "outputs": [
        {
          "output_type": "execute_result",
          "data": {
            "text/plain": [
              "True"
            ]
          },
          "metadata": {},
          "execution_count": 18
        }
      ]
    },
    {
      "cell_type": "code",
      "source": [
        "# Ejemplo 1.4 caso b\n",
        "(15 >= 7 * 3 ** 2 and 8 > 3 and 15 > 6) or not (7 * 3 < 5 + 12 * 2 // 3 ** 2)    # Comenzamos elevando todas las potencias, de izquierda a derecha y sobretodo, aquellas que están encerradas entre el primer paréntesis, el del lado izquierdo\n",
        "(15 >= 7 * 9 and 8 > 3 and 15 > 6) or not (7 * 3 < 5 + 12 * 2 // 3 ** 2)         # Continuamos con la primera multiplicación de la expresión, la cual es 7 * 9\n",
        "(15 >= 63 and 8 > 3 and 15 > 6) or not (7 * 3 < 5 + 12 * 2 // 3 ** 2)            # Continuamos con cada una de las evaluaciones que ímplican los operadores relacionales, primero 15 >= 63\n",
        "(False and 8 > 3 and 15 > 6) or not (7 * 3 < 5 + 12 * 2 // 3 ** 2)               # Después 8 > 3 = True\n",
        "(False and True and True) or not (7 * 3 < 5 + 12 * 2 // 3 ** 2)                  # Después 15 > 6 = True\n",
        "(False and True) or not (7 * 3 < 5 + 12 * 2 // 3 ** 2)                           # En este punto nuevamente se evalua False and True, lo cual da el valor False\n",
        "(False) or not (7 * 3 < 5 + 12 * 2 // 3 ** 2)                                    # Nuevamente se evalua False and True, cuyo valor es False\n",
        "False or not (7 * 3 < 5 + 12 * 2 // 3 ** 2)                                      # Ahora toca evaluar la primer multiplicación del lado derecho\n",
        "False or not (21 < 5 + 24 // 3 ** 2)                                             # Se hace la segunda multiplicación 12 * 2 = 24\n",
        "False or not (21 < 5 + 24 // 9)                                                  # Se eleva el valor de 3 al cuadrado, cuyo valor es 9\n",
        "False or not (21 < 5 + 2)                                                        # Se realiza la división completa de 9 * 2 = 18 + 6 = 24, cuyo valor es 2\n",
        "False or not (21 < 7)                                                            # Se realiza la suma de 5 + 2 = 7\n",
        "False or not (False)                                                             # 21 < 7 devuelve un valor falso\n",
        "False or not False                                                               # not False es igual a verdadero\n",
        "False or True                                                                    # False or True = True"
      ],
      "metadata": {
        "colab": {
          "base_uri": "https://localhost:8080/"
        },
        "id": "jNo345Y-h35Y",
        "outputId": "6abf3691-8021-490d-ade1-286eb22ab069"
      },
      "execution_count": 24,
      "outputs": [
        {
          "output_type": "execute_result",
          "data": {
            "text/plain": [
              "True"
            ]
          },
          "metadata": {},
          "execution_count": 24
        }
      ]
    },
    {
      "cell_type": "code",
      "source": [
        "# Ejemplo 1.4 caso c\n",
        "not ((7 * 3 // 2 * 4) > (15 / 2 * 6 >= 15 * 2 / 17 == 15))                       # Comenzamos realizando la multiplicación 7 * 3\n",
        "not ((21 // 2 * 4) > (15 / 2 * 6 >= 15 * 2 / 17 == 15))                          # Ahora se hace la primera divesión completa 21 // 2 = 10\n",
        "not ((10 * 4) > (15 / 2 * 6 >= 15 * 2 / 17 == 15))                               # Ahora se realiza la multiplicación 10 * 4 = 40\n",
        "not (40 > (15 / 2 * 6 >= 15 * 2 / 17 == 15))                                     # Se realiza la división de toda la vida, con los valores 15 / 2 = 7.5\n",
        "not (40 > (7.5 * 6 >= 15 * 2 / 17 == 15))                                        # Se realiza la multiplicación de 7.5 * 6 = 45\n",
        "not (40 > (45 >= 15 * 2 / 17 == 15))                                             # Se realiza la multiplicación de 15 * 2\n",
        "not (40 > (45 >= 30 / 17 == 15))                                                 # Ahora se realiza la división de 30 / 17\n",
        "not (40 > (45 >= 1.76 == 15))                                                    # Ahora se realiza la comparación entre los siguientes valores 45 >= 1.76\n",
        "not (40 > (True == 15))                                                          # A partir de este punto ya no es posible simplificar más la expresión, al menos no de acuerdo a las reglas impuestas en algunos lenguajes de programación\n",
        "                                                                                 # Python al ser de tipado dinámico puede operar con números como si fueran letras y viceversa, y el resultado de ejecutar el código es \" False \"\n",
        "                                                                                 # Pero en la mayoría de los lenguajes, y la propia matemática dice:\n",
        "# No se puede realizar la comparación entre un valor lógico y un numérico, utilizando un operador relacional.\n",
        "# El resultado en la mayoría de los lenguajes a partir de la línea 10 debería ser \" Error \""
      ],
      "metadata": {
        "id": "qAGqk9RSija2"
      },
      "execution_count": null,
      "outputs": []
    },
    {
      "cell_type": "markdown",
      "source": [
        "# 1.3.5 Bloque de asignación\n",
        "Un bloque de asignación se itiliza para asignar valores o expresiones a una variable. La asignación es una operación destructiva. Esto significa que si la variable tenía asignado un valor, éste se destruye, conservando ahora el nuevo valor. El formato de la asignación es el siguiente:\n",
        "\n",
        "* Variable <----- expresión o valor\n",
        "\n",
        "En donde la expresión puede ser aritmética o lógica, o una constante o una variable\n",
        "\n"
      ],
      "metadata": {
        "id": "X9_mQeCOiot6"
      }
    },
    {
      "cell_type": "code",
      "source": [
        "# El ejemplo 1.5 corresponde a una tabla de asignación de 14 puntos diferentes\n",
        "# Los cuales incluyen diversas variables y caractéres, cada uno de un tipo especial\n",
        "# La idea es subir aquí una imagen de todas las asignaciones, ya que seguir todas y cada una y escribirlas es un tanto engorroso\n",
        "# Una imagen de la situación puede resultar más esclarecedera en estos casos"
      ],
      "metadata": {
        "id": "YwBf7SCtioZB"
      },
      "execution_count": null,
      "outputs": []
    },
    {
      "cell_type": "markdown",
      "source": [
        "## 1.4 Construcción de diagramas de flujo."
      ],
      "metadata": {
        "id": "YxVczHWli6tx"
      }
    },
    {
      "cell_type": "code",
      "source": [
        "# Ejemplo 1.6\n",
        "# Construir un diagrama de flujo tal que dado los datos  A, B, C y D que representan números enteros, escriba los mismos en orden inverso\n",
        "# Datos: A, B, C, D ( Variables de tipo entero)\n",
        "# Consideraciones:\n",
        "#   --> Para el inicio y fin del diagrama de flujo se utliza el símbolo: ( Un Ovalo colocado en posición horizontal)\n",
        "#   --> Para la lectura se utiliza el símbolo: ( Es un trapecio )\n",
        "#   --> Para escritura se utiliza el símbolo: ( Es algo asi como un rectángulo con una curva en la parte de la base, abajo pues)\n",
        "\n",
        "# Puesto que hacer dibujos con puros símbolos alfanúmericos lleva su tiempo, y puesto que de momento no conocemos lo suficiente para hacerlo de otra forma\n",
        "# he optado por describir el diagrama de flujo en sus diferentes etapas, casi como un pseudocódigo\n",
        "\n",
        "\n",
        "#  Inicio\n",
        "#    |\n",
        "# A, B, C, D          <----- {Se leen los datos}\n",
        "#    |\n",
        "# D, C, B, A          <----- {Se escriben los datos en orden inverso al orden original}\n",
        "#    |\n",
        "#   FIN"
      ],
      "metadata": {
        "id": "b-L5dC0OijVI"
      },
      "execution_count": null,
      "outputs": []
    },
    {
      "cell_type": "code",
      "source": [
        "# Ejemplo 1.7\n",
        "# Construya un diagrama de flujo tal que dado los datos enteros A y B, escriba el resultado de la siguietne expresión:\n",
        "# ((A + B)**2) / 3\n",
        "# Datos: A, B (variables de tipo entero)\n",
        "# Recuerde lo siguiente:\n",
        "#   --> Para realizar un proceso se utiliza el símbolo de un rectángulo\n",
        "#   --> Para asignar una expresión o valor a una variable, se utiliza un bloque de asignación, así:    Variable <----- Expresión o valor\n",
        "\n",
        "#      Inicio                                                                                                           (Símbolo del óvalo)\n",
        "#        |\n",
        "#      A , B                     <----- {Lectura de datos}                                                              (Símbolo del trapezoide)\n",
        "#        |\n",
        "# RES <-- (A + B)**2 / 3         <----- {El resultado de la expresión se almacena en la variable de tipo real RES}      (Símbolo del rectángulo)\n",
        "#        |\n",
        "#       RES                      <----- {Escritura de la variable RES que almacena el resultado de la expresión}        (Símbolo del rectángulo con la base algo circular)\n",
        "#        |\n",
        "#       FIN                                                                                                             (Símbolo del óvalo)\n",
        "\n",
        "# (4 + 5)**2 / 3, valores de prueba A = 4 y B = 5, al ejecutar el código el resultado es 27.0\n",
        "# Explicación de las variables\n",
        "# A, B: Variables de tipo entero\n",
        "# RES: Variable de tipo real. Almacena el resultado de la expresión.\n",
        "\n",
        "# En la siguientes celdas se muestran algunos valores para A y B y su respectivo resultado, en el libro aparecen en forma de tabla"
      ],
      "metadata": {
        "id": "pORUW8YjijRh"
      },
      "execution_count": null,
      "outputs": []
    },
    {
      "cell_type": "code",
      "source": [
        "# Corrida 1\n",
        "# A = 5\n",
        "# B = 6\n",
        "(5 + 6)**2 / 3"
      ],
      "metadata": {
        "colab": {
          "base_uri": "https://localhost:8080/"
        },
        "id": "dQ72GCcrijOc",
        "outputId": "59b9a8e6-afe8-4181-92f7-edc335c00ce9"
      },
      "execution_count": 25,
      "outputs": [
        {
          "output_type": "execute_result",
          "data": {
            "text/plain": [
              "40.333333333333336"
            ]
          },
          "metadata": {},
          "execution_count": 25
        }
      ]
    },
    {
      "cell_type": "code",
      "source": [
        "# Corrida 2\n",
        "# A = 7\n",
        "# B = 10\n",
        "(7 + 10)**2 / 3"
      ],
      "metadata": {
        "colab": {
          "base_uri": "https://localhost:8080/"
        },
        "id": "szX25OamijJc",
        "outputId": "59e9e041-2029-4598-d71c-e26e1ddfc6c0"
      },
      "execution_count": 26,
      "outputs": [
        {
          "output_type": "execute_result",
          "data": {
            "text/plain": [
              "96.33333333333333"
            ]
          },
          "metadata": {},
          "execution_count": 26
        }
      ]
    },
    {
      "cell_type": "code",
      "source": [
        "# Corrida 3\n",
        "# A = 0\n",
        "# B = 3\n",
        "(0 + 3)**2 / 3"
      ],
      "metadata": {
        "colab": {
          "base_uri": "https://localhost:8080/"
        },
        "id": "PXTXFPh9acYb",
        "outputId": "4cefb4d2-ca73-41ef-fae3-c558a075dd2c"
      },
      "execution_count": 27,
      "outputs": [
        {
          "output_type": "execute_result",
          "data": {
            "text/plain": [
              "3.0"
            ]
          },
          "metadata": {},
          "execution_count": 27
        }
      ]
    },
    {
      "cell_type": "code",
      "source": [
        "# Corrida 4\n",
        "# A = 12\n",
        "# B = 2\n",
        "(12 + 2)**2 / 3"
      ],
      "metadata": {
        "colab": {
          "base_uri": "https://localhost:8080/"
        },
        "id": "O9PEpMZ4jKXL",
        "outputId": "5bb6a29d-9467-4f5b-dbf4-e29f6f16fc4a"
      },
      "execution_count": 28,
      "outputs": [
        {
          "output_type": "execute_result",
          "data": {
            "text/plain": [
              "65.33333333333333"
            ]
          },
          "metadata": {},
          "execution_count": 28
        }
      ]
    },
    {
      "cell_type": "code",
      "source": [
        "# Corrida 5\n",
        "# A = 14\n",
        "# B = -5\n",
        "(14 + (-5))**2 / 3\n",
        "# Notesé que introdujimos un paréntesis adicional para destacar el valor de B y los cambios de signo implicados\n",
        "# Así mismo, notesé que no escribimos un algoritmo completo para resolver el problema, de momento."
      ],
      "metadata": {
        "colab": {
          "base_uri": "https://localhost:8080/"
        },
        "id": "L45f_sOmjKU7",
        "outputId": "5fa5e3ac-9fbc-4a76-83a5-496dc6f08c11"
      },
      "execution_count": 29,
      "outputs": [
        {
          "output_type": "execute_result",
          "data": {
            "text/plain": [
              "27.0"
            ]
          },
          "metadata": {},
          "execution_count": 29
        }
      ]
    },
    {
      "cell_type": "code",
      "source": [
        "# Ejemplo 1.8\n",
        "# Dada la matrículo y 5 calificaciones de un alumno obtenidas a lo largo del semestre, construya un diagrama de flujo que imprima la matrícula del alumno\n",
        "# y el promedio de calificaciones.\n",
        "\n",
        "# Datos: MAT, CAL1, CAL2, CAL3, CAL4, CAL5\n",
        "# Donde:\n",
        "#    ---> MAT: Es una variable de tipo entero que representa la matrícula del alumno\n",
        "#    ---> CAL1, CAL2, CAL3, CAL4, CAL5: Son variables de tipo real que representan las 5 calificaciones del alumno.\n",
        "\n",
        "\n",
        "#                    Inicio                                                                                                                 (Símbolo del óvalo)\n",
        "#                      |\n",
        "#    MAT, CAL1, CAL2, CAL3, CAL4, CAL5              <----- {Lectura de la matrícula y las calificaciones}                                   (Símbolo del trapezoide)\n",
        "#                      |\n",
        "# PRO <-- (MAT, CAL1, CAL2, CAL3, CAL4, CAL5) / 5   <----- {Almacena en la variable de tipo real PRO, el promedio de las calificaciones}    (Símbolo del rectángulo)\n",
        "#                      |\n",
        "#                   MAT, PRO                        <----- {Escribe la matrícula y el promedio}                                             (Símbolo del rectángulo con la base algo circular)\n",
        "#                      |\n",
        "#                     FIN                                                                                                                   (Símbolo del óvalo)\n",
        "\n",
        "# Explicación de las variables\n",
        "# MAT: Variable de tipo entero.\n",
        "# CAL1, CAL2, CAL3, CAL4, CAL5: Variables de tipo real.\n",
        "# PRO: Variable de tipo real. Almacena el promedio de las calificaciones del alumno.\n",
        "\n",
        "# En la siguientes celdas se muestran algunos valores para algunos estudiantes y su respectivo resultado, en el libro aparecen en forma de tabla"
      ],
      "metadata": {
        "id": "deZTvVsnjKSW"
      },
      "execution_count": null,
      "outputs": []
    },
    {
      "cell_type": "code",
      "source": [
        "# Corrida 1\n",
        "# MAT = 16500\n",
        "# CAL1 = 8\n",
        "# CAL2 = 8.5\n",
        "# CAL3 = 9\n",
        "# CAL4 = 7\n",
        "# CAL5 = 6\n",
        "print(\"MAT = 16500\")\n",
        "(8 + 8.5 + 9 + 7 + 6) / 5"
      ],
      "metadata": {
        "colab": {
          "base_uri": "https://localhost:8080/"
        },
        "id": "-sGNyClijKQL",
        "outputId": "313931c5-4233-4faf-c904-017cea33c9b2"
      },
      "execution_count": 30,
      "outputs": [
        {
          "output_type": "stream",
          "name": "stdout",
          "text": [
            "MAT = 16500\n"
          ]
        },
        {
          "output_type": "execute_result",
          "data": {
            "text/plain": [
              "7.7"
            ]
          },
          "metadata": {},
          "execution_count": 30
        }
      ]
    },
    {
      "cell_type": "code",
      "source": [
        "# Corrida 2\n",
        "# MAT = 16650\n",
        "# CAL1 = 9\n",
        "# CAL2 = 8\n",
        "# CAL3 = 9\n",
        "# CAL4 = 7\n",
        "# CAL5 = 9\n",
        "print(\"MAT = 16650\")\n",
        "(9 + 8 + 9 + 7 + 9) / 5"
      ],
      "metadata": {
        "colab": {
          "base_uri": "https://localhost:8080/"
        },
        "id": "Sy4QjxtmjKNo",
        "outputId": "e348344c-b3a3-407c-c6c2-004df910a53a"
      },
      "execution_count": 31,
      "outputs": [
        {
          "output_type": "stream",
          "name": "stdout",
          "text": [
            "MAT = 16650\n"
          ]
        },
        {
          "output_type": "execute_result",
          "data": {
            "text/plain": [
              "8.4"
            ]
          },
          "metadata": {},
          "execution_count": 31
        }
      ]
    },
    {
      "cell_type": "code",
      "source": [
        "# Corrida 3\n",
        "# MAT = 17225\n",
        "# CAL1 = 9\n",
        "# CAL2 = 10\n",
        "# CAL3 = 10\n",
        "# CAL4 = 8\n",
        "# CAL5 = 9\n",
        "print(\"MAT = 17225\")\n",
        "(9 + 10 + 10 + 8 + 9) / 5"
      ],
      "metadata": {
        "colab": {
          "base_uri": "https://localhost:8080/"
        },
        "id": "sn-u1GOKjKLU",
        "outputId": "6e05485c-b1cc-46b3-99a9-7f4de5df1665"
      },
      "execution_count": 32,
      "outputs": [
        {
          "output_type": "stream",
          "name": "stdout",
          "text": [
            "MAT = 17225\n"
          ]
        },
        {
          "output_type": "execute_result",
          "data": {
            "text/plain": [
              "9.2"
            ]
          },
          "metadata": {},
          "execution_count": 32
        }
      ]
    },
    {
      "cell_type": "code",
      "source": [
        "# Corrida 4\n",
        "# MAT = 17240\n",
        "# CAL1 = 8.5\n",
        "# CAL2 = 9\n",
        "# CAL3 = 7.5\n",
        "# CAL4 = 6\n",
        "# CAL5 = 6.5\n",
        "print(\"MAT = 17240\")\n",
        "(8.5 + 9 + 7.5 + 6 + 6.5) / 5"
      ],
      "metadata": {
        "colab": {
          "base_uri": "https://localhost:8080/"
        },
        "id": "1_zYA3ANjKIa",
        "outputId": "b8c96034-a124-478e-e833-6bfbb7d825d4"
      },
      "execution_count": 33,
      "outputs": [
        {
          "output_type": "stream",
          "name": "stdout",
          "text": [
            "MAT = 17240\n"
          ]
        },
        {
          "output_type": "execute_result",
          "data": {
            "text/plain": [
              "7.5"
            ]
          },
          "metadata": {},
          "execution_count": 33
        }
      ]
    },
    {
      "cell_type": "code",
      "source": [
        "# Corrida 5\n",
        "# MAT = 18240\n",
        "# CAL1 = 7.3\n",
        "# CAL2 = 6.8\n",
        "# CAL3 = 9.5\n",
        "# CAL4 = 8\n",
        "# CAL5 = 8.5\n",
        "print(\"MAT = 18240\")\n",
        "(7.3 + 6.8 + 9.5 + 8 + 8.5) / 5"
      ],
      "metadata": {
        "colab": {
          "base_uri": "https://localhost:8080/"
        },
        "id": "lLfsyOR9jKFs",
        "outputId": "b2d451c5-307d-433d-a0da-22cbe8043621"
      },
      "execution_count": 34,
      "outputs": [
        {
          "output_type": "stream",
          "name": "stdout",
          "text": [
            "MAT = 18240\n"
          ]
        },
        {
          "output_type": "execute_result",
          "data": {
            "text/plain": [
              "8.02"
            ]
          },
          "metadata": {},
          "execution_count": 34
        }
      ]
    },
    {
      "cell_type": "code",
      "source": [
        "# Falta agregar el ejemplo 1.9 y 1.10, pero en escencia son símilares a los programas que se vieron en donde hay corridas y demás...\n",
        "# De manera que los agregaré después"
      ],
      "metadata": {
        "id": "FHYxzDFPjKCr"
      },
      "execution_count": null,
      "outputs": []
    },
    {
      "cell_type": "markdown",
      "source": [
        "# 1.5 Programas\n",
        "\n",
        "Un programa, concepto desarrollado por Von Neumann en 1946, es un conjunto de instrucciones que sigue la computadora para alcanzar un resultado específico. El programa se escribe en un lenguaje de programación a partir de un diagrama de flujo diseñado con anterioridad.\n",
        "Un lenguaje de programación, por otra parte, está constituido por un conjunto de reglas sintácticas (específica la formación de instrucciones válidas) y semánticas(especifica el significado de estas instrucciones), que hacen posible escribir un programa.\n",
        "Los lenguajes de programación son clasificados teniendo en cuenta el tipo de problemas que son capaces de resolver de manera natural.    \n",
        "Cuando tenemos que resolver un problema de tipo algorítmico, entendiendo por esto aquellos que tienen una solución determinística, primero desarrollamos el algoritmo, que proporciona una solución muy general. Posteriormente construimos el diagrama de flujo, que esquematiza gráfica y detalladamente la solución del problema, y a partir de éste, escribimos el programa en algún lenguaje de programación estructurado."
      ],
      "metadata": {
        "id": "uh5UyrMIjudu"
      }
    },
    {
      "cell_type": "markdown",
      "source": [
        "Todo programa tiene un nombre que lo define. Utilizaremos las reglas presentadas para la construcción de un identificador, para construir el nombre del programa. Es muy importante que los nombres de los programas sean representativos de la función que cumplen los mismos. Posterior al nombre, debajo, es muy recomendable escribir un párrafo como comentario de lo que realiza el programa. También es necesario definir las constantes y variables que utilizaremos en el desarrollo de la solución."
      ],
      "metadata": {
        "id": "0NtZJuv-jua5"
      }
    },
    {
      "cell_type": "code",
      "source": [
        "# Ejemplo 1.11\n",
        "# Consideremos el diagrama de flujo construido para resolver el problema del ejemplo 1.6, a la derecha del diagrama podemos observar\n",
        "# las instrucciones escritas en lenguaje algorítmico\n",
        "\n",
        "\n",
        "#  Inicio                                                                                     # Instrucciones en lenguaje algorítmico\n",
        "#    |\n",
        "# A, B, C, D          <----- {Se leen los datos}                                              # 1.- Leer A, B, C, D\n",
        "#    |\n",
        "# D, C, B, A          <----- {Se escriben los datos en orden inverso al orden original}       # 2.- Escribir D, C, B, A\n",
        "#    |\n",
        "#   FIN\n",
        "\n",
        "# Nombre del programa: INVERTE_DATOS\n",
        "\n",
        "# Descripción del programa: {El programa dado un conjunto de datos de entrada invierte el orden de los mismos cuando se imprimen}\n",
        "\n",
        "# Variables que se utilizaron durante la solución: {A, B, C, D son variables de tipo entero}\n",
        "\n",
        "# Instrucciones del programa\n",
        "# 1.- Leer A, B, C, D\n",
        "# 2.- Escribir D, C, B, A"
      ],
      "metadata": {
        "id": "XlHoFBd3jt-D"
      },
      "execution_count": null,
      "outputs": []
    },
    {
      "cell_type": "code",
      "source": [],
      "metadata": {
        "id": "RdA932u-jt7V"
      },
      "execution_count": null,
      "outputs": []
    },
    {
      "cell_type": "code",
      "source": [],
      "metadata": {
        "id": "JQ-8TgR7jt3z"
      },
      "execution_count": null,
      "outputs": []
    },
    {
      "cell_type": "code",
      "source": [],
      "metadata": {
        "id": "mw99uSUnjt1a"
      },
      "execution_count": null,
      "outputs": []
    },
    {
      "cell_type": "code",
      "source": [],
      "metadata": {
        "id": "pAlee8c_jtwt"
      },
      "execution_count": null,
      "outputs": []
    },
    {
      "cell_type": "code",
      "source": [],
      "metadata": {
        "id": "IjeWxH3Tjtrr"
      },
      "execution_count": null,
      "outputs": []
    },
    {
      "cell_type": "code",
      "source": [],
      "metadata": {
        "id": "4cdXT2ngjtgx"
      },
      "execution_count": null,
      "outputs": []
    },
    {
      "cell_type": "markdown",
      "source": [],
      "metadata": {
        "id": "ohWSpqQCjtTB"
      }
    }
  ]
}