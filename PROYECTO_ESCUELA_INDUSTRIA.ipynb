{
  "nbformat": 4,
  "nbformat_minor": 0,
  "metadata": {
    "colab": {
      "provenance": [],
      "authorship_tag": "ABX9TyMxtZs0vTVyYEYKsQ5JeMVH",
      "include_colab_link": true
    },
    "kernelspec": {
      "name": "python3",
      "display_name": "Python 3"
    },
    "language_info": {
      "name": "python"
    }
  },
  "cells": [
    {
      "cell_type": "markdown",
      "metadata": {
        "id": "view-in-github",
        "colab_type": "text"
      },
      "source": [
        "<a href=\"https://colab.research.google.com/github/LEONLUNAM/20251/blob/main/PROYECTO_ESCUELA_INDUSTRIA.ipynb\" target=\"_parent\"><img src=\"https://colab.research.google.com/assets/colab-badge.svg\" alt=\"Open In Colab\"/></a>"
      ]
    },
    {
      "cell_type": "markdown",
      "source": [
        "# OBJETIVO GENERAL\n",
        "\n",
        "## Conocer y estudiar temas de interés actual, para resolver problemas reales de la industria, utilizando los conocimientos adquiridos durante la carrera."
      ],
      "metadata": {
        "id": "l6P61ALBtzFo"
      }
    },
    {
      "cell_type": "code",
      "execution_count": null,
      "metadata": {
        "id": "NWkyg40bqr2T"
      },
      "outputs": [],
      "source": [
        "# La bibliografía y los temas del mismo dependerán del tema a tratar\n",
        "# Así como de la visión de la profesora."
      ]
    }
  ]
}