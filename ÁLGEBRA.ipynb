{
  "nbformat": 4,
  "nbformat_minor": 0,
  "metadata": {
    "colab": {
      "provenance": [],
      "authorship_tag": "ABX9TyPzvfSVu+DHPiJr6NwwosQK",
      "include_colab_link": true
    },
    "kernelspec": {
      "name": "python3",
      "display_name": "Python 3"
    },
    "language_info": {
      "name": "python"
    }
  },
  "cells": [
    {
      "cell_type": "markdown",
      "metadata": {
        "id": "view-in-github",
        "colab_type": "text"
      },
      "source": [
        "<a href=\"https://colab.research.google.com/github/LEONLUNAM/20251/blob/main/%C3%81LGEBRA.ipynb\" target=\"_parent\"><img src=\"https://colab.research.google.com/assets/colab-badge.svg\" alt=\"Open In Colab\"/></a>"
      ]
    },
    {
      "cell_type": "markdown",
      "source": [
        "# OBJETIVO GENERAL\n",
        "## Manejar los conceptos de lógica, teoría de conjuntos y sistemas algebraicos para la solución de problemas de análisis combinatorio, y como fundamento para todos los cursos posteriores de matemáticas en su aplicación al área de cómputo.\n",
        "\n",
        "    1.- Conceptos de Álgebra básica.\n",
        "    2.- Lógica y teoría de conjuntos.\n",
        "    3.- Números reales.\n",
        "    4.- Números complejos.  \n",
        "    5.- Polinomios.\n",
        "    6.- Introducción a los ordenadores, permutaciones y combinaciones."
      ],
      "metadata": {
        "id": "47iVLZCc-NjG"
      }
    },
    {
      "cell_type": "code",
      "execution_count": null,
      "metadata": {
        "id": "FnUTrPNR9yf2"
      },
      "outputs": [],
      "source": [
        "# 1.- Conceptos de Álgebra básica\n",
        "# OBJETIVO\n",
        "# Analizar y aplicar las propiedades de los exponentes y los radicales para el manejo y la simplificación de expresiones\n",
        "# algebraicas.\n",
        "\n",
        "# 1.1 Exponentes y radicales.\n",
        "#     1.1.1 Propiedades de los exponentes.\n",
        "#     1.1.2 Propiedades de los radicales.\n",
        "#     1.1.3 Simplificación de radicales.\n",
        "#     1.1.4 Exponente fracionario positivo.\n",
        "#     1.1.5 Exponente fraccionario negativo.\n",
        "# 1.2 Productos notables y factorización.\n",
        "#     1.2.1 Productos notables: Cuadrado de un binomio y de un trinomio, producto de binomios conjugados, binomios que\n",
        "#           tienen un término en común y cubo de un binomio.\n",
        "#     1.2.2 Significado de la factorización. Casos de factorización: Factor común de una expresión matemática, trinomio\n",
        "#           cuadrado perfecto, diferencia de cuadrados, trinomio de segundo grado, suma y diferencia de dos cubos y\n",
        "#           binomio de la forma an ± bn.\n",
        "# 1.3 Logaritmos.\n",
        "#     1.3.1 Concepto de logaritmo.\n",
        "#     1.3.2 Propiedades de los logaritmos.\n",
        "#     1.3.4 Logaritmo de base 10.\n",
        "#     1.3.5 Resolución de ecuaciones logarítmicas y exponenciales."
      ]
    },
    {
      "cell_type": "code",
      "source": [
        "# 2.- Lógica y teoría de conjuntos.\n",
        "# OBJETIVO\n",
        "\n",
        "# 2.1 Definiciones y notaciones.\n",
        "# 2.2 Cuantificadores.\n",
        "# 2.3 Negación de una proposición.\n",
        "# 2.4 Conjunción de dos proposiciones.\n",
        "# 2.5 Disyunción de dos proposiciones. Unión de conjuntos.\n",
        "# 2.6 Leyes de D´Morgan.\n",
        "# 2.7 Distributividad.\n",
        "# 2.8 Implicación, inclusión.\n",
        "# 2.9 Algunos métodos de demostración."
      ],
      "metadata": {
        "id": "NOoItvSFCXZo"
      },
      "execution_count": null,
      "outputs": []
    },
    {
      "cell_type": "code",
      "source": [
        "# 3.- Números reales\n",
        "# OBJETIVO\n",
        "# Establecer una base firme en el análisis de números reales para una eficiente\n",
        "# aplicación en el análisis númerico.\n",
        "\n",
        "# 3.1 El conjunto de los números naturales.\n",
        "#     3.1.1 Concepto de número.\n",
        "#     3.1.2 Postulados de Peano.\n",
        "#     3.1.3 Métodos de demostración por recurrencia o induccióm matemática.\n",
        "#     3.1.4 Concepto de orden en N.\n",
        "# 3.2 El conjunto de los números enteros.\n",
        "#     3.2.1 Definición a partir de los números naturales.\n",
        "#     3.3.2 Concepto de orden en Q.\n",
        "#     3.3.3 Expresión decimal periódica de un número racional.\n",
        "#     3.3.4 Algoritmo de la división en Z.\n",
        "#     3.3.5 Propiedades de densidad de los números racionales y representación de }\n",
        "#           éstos en la recta númerica.\n",
        "# 3.4 El conjunto de los números reales.\n",
        "#     3.4.1 Existencia de los números irracionales (algebraicos y trascendentes); representacion\n",
        "#           de los números reales en la recta númerica.\n",
        "# 3.5 Concepto de orden en R.\n",
        "#     3.5.1 Definición de valor absoluto.\n",
        "#     3.5.2 Propiedades de las desigualdades y del valor absoluto.\n",
        "#     3.5.3 Solución de inecuaciones."
      ],
      "metadata": {
        "id": "HzOTD1o0CX1u"
      },
      "execution_count": null,
      "outputs": []
    },
    {
      "cell_type": "code",
      "source": [
        "# 4 .- Números complejos\n",
        "# OBJETIVO\n",
        "# Conocer las diferentes representaciones de los números complejos para aplicarlos\n",
        "# en la solución de ecuaciones, así como hacer el análisis de los polinomios de grado n.\n",
        "\n",
        "# 4.1 Representación en forma binómica.\n",
        "#     4.1.1 Definición de número complejo, de igualdad y de conjugado.\n",
        "#     4.1.2 Representación gráfica.\n",
        "#     4.1.3 Operaciones y sus propiedades: adición, sustracción, multiplicación y división.\n",
        "#           propiedades del conjugado.\n",
        "# 4.2 Representación en forma polar o trigonométrica.\n",
        "#     4.2.1 Transformación de la forma binómica a la polar y viceversa.\n",
        "#     4.2.2 Definición de módulo, argumento y de igualdad de números complejos.\n",
        "#     4.2.3 Operaciones en la forma polar: mulatiplicación, división, potenciación y radicación.\n",
        "# 4.3 Representación en la forma exponencial o de Euler: equivalencia entre la forma polar\n",
        "#     y la exponencial. Operaciones en la forma exponencial: multiplicación, división, potenciación y radicación.\n",
        "# 4.4 Solución de ecuaciones con una incógnita que involucren números complejos."
      ],
      "metadata": {
        "id": "EClk6sagCYfr"
      },
      "execution_count": null,
      "outputs": []
    },
    {
      "cell_type": "code",
      "source": [
        "# 5.- Polinomios\n",
        "# OBJETIVOS\n",
        "# Determinar las raíces de los polinomios con base en sus propiedades.\n",
        "\n",
        "# 5.1 Algebra de los polinomios.\n",
        "#     5.1.1 Definiciones de polinomio e igualdad de polinomios; definición y propiedades de adición, sustracción, multiplicación de\n",
        "#           polinomios y de multiplicación de un polinoko por un escalar.\n",
        "# 5.2 División de polinomios.\n",
        "#     5.2.1 Concepto de divisibilidad de polinomios.\n",
        "#     5.2.2 Algoritmo de la división.\n",
        "#     5.2.3 Teorema del residuo y del factor.\n",
        "#     5.2.4 El método de la división sintética.\n",
        "# 5.3 Las raíces de un polinomio.\n",
        "#     5.3.1 Definición de raíz.\n",
        "#     5.3.2 Clasificación de raíces.\n",
        "#     5.3.3 Teorema fundamental del álgebra y número de raíces de un polinomio.\n",
        "# 5.4 Técnicas elementales para obtener raíces.\n",
        "#     5.4.1 Análisis del cambio de signo en el residuo.\n",
        "#     5.4.2 Obtención de cotas de las raíces reales y reglas de los signos de Descartes; teoremas sobre raíces irracionales\n",
        "#           conjugadas y complejas conjugadas."
      ],
      "metadata": {
        "id": "KeNMtAo-6T9i"
      },
      "execution_count": null,
      "outputs": []
    },
    {
      "cell_type": "code",
      "source": [
        "# 6.- Introducción a las ordenaciones, permutaciones y combinaciones.\n",
        "# OBJETIVO\n",
        "# Comprender los conceptos relacionados con la teoría combinatoria con el fin de resolver problemas que involucren sistemas de conteo.\n",
        "\n",
        "# 6.1 Estudios de las técnicas de conteo.\n",
        "#     6.1.1 Regla de la adición y regla de la multiplicación.\n",
        "#     6.1.2 Diagramas de árbol.\n",
        "#     6.1.3 Principio fundamental del análisis combinatorio.\n",
        "# 6.2 Concepto de permutaciones y ordenaciones.\n",
        "#     6.2.1 Definición: de ordenaciones y permutaciones de objetos diferentes, de ordenaciones y permutaciones con repetición,\n",
        "#           de permutacionues con grupos de elementos iguales y de permutaciones circulares.\n",
        "# 6.3 Concepto de combinaciones.\n",
        "#     6.3.1 Definición de combinaciones sin repetición y con repetición."
      ],
      "metadata": {
        "id": "1HNAO0Ay6TUk"
      },
      "execution_count": null,
      "outputs": []
    },
    {
      "cell_type": "code",
      "source": [],
      "metadata": {
        "id": "JuEevSkd6Ps4"
      },
      "execution_count": null,
      "outputs": []
    },
    {
      "cell_type": "code",
      "source": [],
      "metadata": {
        "id": "eZD47PYn6GKR"
      },
      "execution_count": null,
      "outputs": []
    },
    {
      "cell_type": "code",
      "source": [],
      "metadata": {
        "id": "hNWMUopvCYmp"
      },
      "execution_count": null,
      "outputs": []
    },
    {
      "cell_type": "code",
      "source": [],
      "metadata": {
        "id": "VCb99GKxCYsW"
      },
      "execution_count": null,
      "outputs": []
    },
    {
      "cell_type": "code",
      "source": [],
      "metadata": {
        "id": "umHTw0jPCYww"
      },
      "execution_count": null,
      "outputs": []
    },
    {
      "cell_type": "code",
      "source": [],
      "metadata": {
        "id": "DNlMNHH8CY2G"
      },
      "execution_count": null,
      "outputs": []
    },
    {
      "cell_type": "code",
      "source": [],
      "metadata": {
        "id": "D1zsl8yhCY5m"
      },
      "execution_count": null,
      "outputs": []
    }
  ]
}