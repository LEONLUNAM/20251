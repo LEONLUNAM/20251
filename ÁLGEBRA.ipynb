{
  "nbformat": 4,
  "nbformat_minor": 0,
  "metadata": {
    "colab": {
      "provenance": [],
      "authorship_tag": "ABX9TyMFcSb+yUoSK5kK5XH9crKE",
      "include_colab_link": true
    },
    "kernelspec": {
      "name": "python3",
      "display_name": "Python 3"
    },
    "language_info": {
      "name": "python"
    }
  },
  "cells": [
    {
      "cell_type": "markdown",
      "metadata": {
        "id": "view-in-github",
        "colab_type": "text"
      },
      "source": [
        "<a href=\"https://colab.research.google.com/github/LEONLUNAM/20251/blob/main/%C3%81LGEBRA.ipynb\" target=\"_parent\"><img src=\"https://colab.research.google.com/assets/colab-badge.svg\" alt=\"Open In Colab\"/></a>"
      ]
    },
    {
      "cell_type": "markdown",
      "source": [
        "# OBJETIVO GENERAL\n",
        "## Manejar los conceptos de lógica, teoría de conjuntos y sistemas algebraicos para la solución de problemas de análisis combinatorio, y como fundamento para todos los cursos posteriores de matemáticas en su aplicación al área de cómputo.\n",
        "\n",
        "    1.- Conceptos de Álgebra básica.\n",
        "    2.- Lógica y teoría de conjuntos.\n",
        "    3.- Números reales.\n",
        "    4.- Números complejos.  \n",
        "    5.- Polinomios.\n",
        "    6.- Introducción a los ordenadores, permutaciones y combinaciones."
      ],
      "metadata": {
        "id": "47iVLZCc-NjG"
      }
    },
    {
      "cell_type": "code",
      "execution_count": null,
      "metadata": {
        "id": "FnUTrPNR9yf2"
      },
      "outputs": [],
      "source": [
        "# 1.- Conceptos de Álgebra básica\n",
        "# OBJETIVO\n",
        "# Analizar y aplicar las propiedades de los exponentes y los radicales para el manejo y la simplificación de expresiones\n",
        "# algebraicas.\n",
        "\n",
        "# 1.1 Exponentes y radicales\n",
        "#     1.1.1 Propiedades de los exponentes.\n",
        "#     1.1.2 Propiedades de los radicales.\n",
        "#     1.1.3 Simplificación de radicales.\n",
        "#     1.1.4 Exponente fracionario positivo.\n",
        "#     1.1.5 Exponente fraccionario negativo.\n",
        "# 1.2 Productos notables y factorización.\n",
        "#     1.2.1 Productos notables: Cuadrado de un binomio y de un trinomio, producto de binomios conjugados, binomios que\n",
        "#           tienen un término en común y cubo de un binomio.\n",
        "#     1.2.2 Significado de la factorización. Casos de factorización: Factor común de una expresión matemática, trinomio\n",
        "#           cuadrado perfecto, diferencia de cuadrados, trinomio de segundo grado, suma y diferencia de dos cubos y\n",
        "#           binomio de la forma an ± bn.\n"
      ]
    }
  ]
}